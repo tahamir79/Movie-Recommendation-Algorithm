{
 "cells": [
  {
   "cell_type": "code",
   "execution_count": 425,
   "metadata": {},
   "outputs": [],
   "source": [
    "import pandas as pd\n",
    "from sklearn.neighbors import KNeighborsClassifier\n",
    "from sklearn.model_selection import train_test_split\n",
    "from sklearn.model_selection import validation_curve"
   ]
  },
  {
   "cell_type": "markdown",
   "metadata": {},
   "source": [
    "## Read & Clean the Data"
   ]
  },
  {
   "cell_type": "code",
   "execution_count": 426,
   "metadata": {},
   "outputs": [],
   "source": [
    "#STEPS:\n",
    "#us movie subsetting -- after read data\n",
    "#drop col not used\n",
    "#dropna\n",
    "#work on $ replacement\n",
    "#work on genre \n",
    "#possibly change year to decade\n",
    "#change target to \"n_votes\""
   ]
  },
  {
   "cell_type": "code",
   "execution_count": 427,
   "metadata": {
    "scrolled": true
   },
   "outputs": [
    {
     "name": "stderr",
     "output_type": "stream",
     "text": [
      "/opt/anaconda3/lib/python3.8/site-packages/IPython/core/interactiveshell.py:3146: DtypeWarning: Columns (3) have mixed types.Specify dtype option on import or set low_memory=False.\n",
      "  has_raised = await self.run_ast_nodes(code_ast.body, cell_name,\n"
     ]
    },
    {
     "data": {
      "text/html": [
       "<div>\n",
       "<style scoped>\n",
       "    .dataframe tbody tr th:only-of-type {\n",
       "        vertical-align: middle;\n",
       "    }\n",
       "\n",
       "    .dataframe tbody tr th {\n",
       "        vertical-align: top;\n",
       "    }\n",
       "\n",
       "    .dataframe thead th {\n",
       "        text-align: right;\n",
       "    }\n",
       "</style>\n",
       "<table border=\"1\" class=\"dataframe\">\n",
       "  <thead>\n",
       "    <tr style=\"text-align: right;\">\n",
       "      <th></th>\n",
       "      <th>imdb_title_id</th>\n",
       "      <th>original_title</th>\n",
       "      <th>year</th>\n",
       "      <th>date_published</th>\n",
       "      <th>genre</th>\n",
       "      <th>duration</th>\n",
       "      <th>country</th>\n",
       "      <th>language</th>\n",
       "      <th>director</th>\n",
       "      <th>writer</th>\n",
       "      <th>production_company</th>\n",
       "      <th>actors</th>\n",
       "      <th>description</th>\n",
       "      <th>avg_vote</th>\n",
       "      <th>votes</th>\n",
       "      <th>budget</th>\n",
       "      <th>usa_gross_income</th>\n",
       "      <th>worlwide_gross_income</th>\n",
       "      <th>metascore</th>\n",
       "      <th>reviews_from_users</th>\n",
       "      <th>reviews_from_critics</th>\n",
       "    </tr>\n",
       "    <tr>\n",
       "      <th>title</th>\n",
       "      <th></th>\n",
       "      <th></th>\n",
       "      <th></th>\n",
       "      <th></th>\n",
       "      <th></th>\n",
       "      <th></th>\n",
       "      <th></th>\n",
       "      <th></th>\n",
       "      <th></th>\n",
       "      <th></th>\n",
       "      <th></th>\n",
       "      <th></th>\n",
       "      <th></th>\n",
       "      <th></th>\n",
       "      <th></th>\n",
       "      <th></th>\n",
       "      <th></th>\n",
       "      <th></th>\n",
       "      <th></th>\n",
       "      <th></th>\n",
       "      <th></th>\n",
       "    </tr>\n",
       "  </thead>\n",
       "  <tbody>\n",
       "    <tr>\n",
       "      <th>Miss Jerry</th>\n",
       "      <td>tt0000009</td>\n",
       "      <td>Miss Jerry</td>\n",
       "      <td>1894</td>\n",
       "      <td>1894-10-09</td>\n",
       "      <td>Romance</td>\n",
       "      <td>45</td>\n",
       "      <td>USA</td>\n",
       "      <td>None</td>\n",
       "      <td>Alexander Black</td>\n",
       "      <td>Alexander Black</td>\n",
       "      <td>Alexander Black Photoplays</td>\n",
       "      <td>Blanche Bayliss, William Courtenay, Chauncey D...</td>\n",
       "      <td>The adventures of a female reporter in the 1890s.</td>\n",
       "      <td>5.9</td>\n",
       "      <td>154</td>\n",
       "      <td>NaN</td>\n",
       "      <td>NaN</td>\n",
       "      <td>NaN</td>\n",
       "      <td>NaN</td>\n",
       "      <td>1.0</td>\n",
       "      <td>2.0</td>\n",
       "    </tr>\n",
       "    <tr>\n",
       "      <th>The Story of the Kelly Gang</th>\n",
       "      <td>tt0000574</td>\n",
       "      <td>The Story of the Kelly Gang</td>\n",
       "      <td>1906</td>\n",
       "      <td>1906-12-26</td>\n",
       "      <td>Biography, Crime, Drama</td>\n",
       "      <td>70</td>\n",
       "      <td>Australia</td>\n",
       "      <td>None</td>\n",
       "      <td>Charles Tait</td>\n",
       "      <td>Charles Tait</td>\n",
       "      <td>J. and N. Tait</td>\n",
       "      <td>Elizabeth Tait, John Tait, Norman Campbell, Be...</td>\n",
       "      <td>True story of notorious Australian outlaw Ned ...</td>\n",
       "      <td>6.1</td>\n",
       "      <td>589</td>\n",
       "      <td>$ 2250</td>\n",
       "      <td>NaN</td>\n",
       "      <td>NaN</td>\n",
       "      <td>NaN</td>\n",
       "      <td>7.0</td>\n",
       "      <td>7.0</td>\n",
       "    </tr>\n",
       "  </tbody>\n",
       "</table>\n",
       "</div>"
      ],
      "text/plain": [
       "                            imdb_title_id               original_title  year  \\\n",
       "title                                                                          \n",
       "Miss Jerry                      tt0000009                   Miss Jerry  1894   \n",
       "The Story of the Kelly Gang     tt0000574  The Story of the Kelly Gang  1906   \n",
       "\n",
       "                            date_published                    genre  duration  \\\n",
       "title                                                                           \n",
       "Miss Jerry                      1894-10-09                  Romance        45   \n",
       "The Story of the Kelly Gang     1906-12-26  Biography, Crime, Drama        70   \n",
       "\n",
       "                               country language         director  \\\n",
       "title                                                              \n",
       "Miss Jerry                         USA     None  Alexander Black   \n",
       "The Story of the Kelly Gang  Australia     None     Charles Tait   \n",
       "\n",
       "                                      writer          production_company  \\\n",
       "title                                                                      \n",
       "Miss Jerry                   Alexander Black  Alexander Black Photoplays   \n",
       "The Story of the Kelly Gang     Charles Tait              J. and N. Tait   \n",
       "\n",
       "                                                                        actors  \\\n",
       "title                                                                            \n",
       "Miss Jerry                   Blanche Bayliss, William Courtenay, Chauncey D...   \n",
       "The Story of the Kelly Gang  Elizabeth Tait, John Tait, Norman Campbell, Be...   \n",
       "\n",
       "                                                                   description  \\\n",
       "title                                                                            \n",
       "Miss Jerry                   The adventures of a female reporter in the 1890s.   \n",
       "The Story of the Kelly Gang  True story of notorious Australian outlaw Ned ...   \n",
       "\n",
       "                             avg_vote  votes  budget usa_gross_income  \\\n",
       "title                                                                   \n",
       "Miss Jerry                        5.9    154     NaN              NaN   \n",
       "The Story of the Kelly Gang       6.1    589  $ 2250              NaN   \n",
       "\n",
       "                            worlwide_gross_income  metascore  \\\n",
       "title                                                          \n",
       "Miss Jerry                                    NaN        NaN   \n",
       "The Story of the Kelly Gang                   NaN        NaN   \n",
       "\n",
       "                             reviews_from_users  reviews_from_critics  \n",
       "title                                                                  \n",
       "Miss Jerry                                  1.0                   2.0  \n",
       "The Story of the Kelly Gang                 7.0                   7.0  "
      ]
     },
     "execution_count": 427,
     "metadata": {},
     "output_type": "execute_result"
    }
   ],
   "source": [
    "#read data\n",
    "\n",
    "movies=pd.read_csv('IMDb movies.csv',index_col=1)\n",
    "movies.head(2)"
   ]
  },
  {
   "cell_type": "code",
   "execution_count": 428,
   "metadata": {},
   "outputs": [
    {
     "data": {
      "text/html": [
       "<div>\n",
       "<style scoped>\n",
       "    .dataframe tbody tr th:only-of-type {\n",
       "        vertical-align: middle;\n",
       "    }\n",
       "\n",
       "    .dataframe tbody tr th {\n",
       "        vertical-align: top;\n",
       "    }\n",
       "\n",
       "    .dataframe thead th {\n",
       "        text-align: right;\n",
       "    }\n",
       "</style>\n",
       "<table border=\"1\" class=\"dataframe\">\n",
       "  <thead>\n",
       "    <tr style=\"text-align: right;\">\n",
       "      <th></th>\n",
       "      <th>imdb_title_id</th>\n",
       "      <th>original_title</th>\n",
       "      <th>year</th>\n",
       "      <th>date_published</th>\n",
       "      <th>genre</th>\n",
       "      <th>duration</th>\n",
       "      <th>country</th>\n",
       "      <th>language</th>\n",
       "      <th>director</th>\n",
       "      <th>writer</th>\n",
       "      <th>production_company</th>\n",
       "      <th>actors</th>\n",
       "      <th>description</th>\n",
       "      <th>avg_vote</th>\n",
       "      <th>votes</th>\n",
       "      <th>budget</th>\n",
       "      <th>usa_gross_income</th>\n",
       "      <th>worlwide_gross_income</th>\n",
       "      <th>metascore</th>\n",
       "      <th>reviews_from_users</th>\n",
       "      <th>reviews_from_critics</th>\n",
       "    </tr>\n",
       "    <tr>\n",
       "      <th>title</th>\n",
       "      <th></th>\n",
       "      <th></th>\n",
       "      <th></th>\n",
       "      <th></th>\n",
       "      <th></th>\n",
       "      <th></th>\n",
       "      <th></th>\n",
       "      <th></th>\n",
       "      <th></th>\n",
       "      <th></th>\n",
       "      <th></th>\n",
       "      <th></th>\n",
       "      <th></th>\n",
       "      <th></th>\n",
       "      <th></th>\n",
       "      <th></th>\n",
       "      <th></th>\n",
       "      <th></th>\n",
       "      <th></th>\n",
       "      <th></th>\n",
       "      <th></th>\n",
       "    </tr>\n",
       "  </thead>\n",
       "  <tbody>\n",
       "    <tr>\n",
       "      <th>The Story of the Kelly Gang</th>\n",
       "      <td>tt0000574</td>\n",
       "      <td>The Story of the Kelly Gang</td>\n",
       "      <td>1906</td>\n",
       "      <td>1906-12-26</td>\n",
       "      <td>Biography, Crime, Drama</td>\n",
       "      <td>70</td>\n",
       "      <td>Australia</td>\n",
       "      <td>None</td>\n",
       "      <td>Charles Tait</td>\n",
       "      <td>Charles Tait</td>\n",
       "      <td>J. and N. Tait</td>\n",
       "      <td>Elizabeth Tait, John Tait, Norman Campbell, Be...</td>\n",
       "      <td>True story of notorious Australian outlaw Ned ...</td>\n",
       "      <td>6.1</td>\n",
       "      <td>589</td>\n",
       "      <td>$ 2250</td>\n",
       "      <td>NaN</td>\n",
       "      <td>NaN</td>\n",
       "      <td>NaN</td>\n",
       "      <td>7.0</td>\n",
       "      <td>7.0</td>\n",
       "    </tr>\n",
       "    <tr>\n",
       "      <th>Cleopatra</th>\n",
       "      <td>tt0002101</td>\n",
       "      <td>Cleopatra</td>\n",
       "      <td>1912</td>\n",
       "      <td>1912-11-13</td>\n",
       "      <td>Drama, History</td>\n",
       "      <td>100</td>\n",
       "      <td>USA</td>\n",
       "      <td>English</td>\n",
       "      <td>Charles L. Gaskill</td>\n",
       "      <td>Victorien Sardou</td>\n",
       "      <td>Helen Gardner Picture Players</td>\n",
       "      <td>Helen Gardner, Pearl Sindelar, Miss Fielding, ...</td>\n",
       "      <td>The fabled queen of Egypt's affair with Roman ...</td>\n",
       "      <td>5.2</td>\n",
       "      <td>446</td>\n",
       "      <td>$ 45000</td>\n",
       "      <td>NaN</td>\n",
       "      <td>NaN</td>\n",
       "      <td>NaN</td>\n",
       "      <td>25.0</td>\n",
       "      <td>3.0</td>\n",
       "    </tr>\n",
       "  </tbody>\n",
       "</table>\n",
       "</div>"
      ],
      "text/plain": [
       "                            imdb_title_id               original_title  year  \\\n",
       "title                                                                          \n",
       "The Story of the Kelly Gang     tt0000574  The Story of the Kelly Gang  1906   \n",
       "Cleopatra                       tt0002101                    Cleopatra  1912   \n",
       "\n",
       "                            date_published                    genre  duration  \\\n",
       "title                                                                           \n",
       "The Story of the Kelly Gang     1906-12-26  Biography, Crime, Drama        70   \n",
       "Cleopatra                       1912-11-13           Drama, History       100   \n",
       "\n",
       "                               country language            director  \\\n",
       "title                                                                 \n",
       "The Story of the Kelly Gang  Australia     None        Charles Tait   \n",
       "Cleopatra                          USA  English  Charles L. Gaskill   \n",
       "\n",
       "                                       writer             production_company  \\\n",
       "title                                                                          \n",
       "The Story of the Kelly Gang      Charles Tait                 J. and N. Tait   \n",
       "Cleopatra                    Victorien Sardou  Helen Gardner Picture Players   \n",
       "\n",
       "                                                                        actors  \\\n",
       "title                                                                            \n",
       "The Story of the Kelly Gang  Elizabeth Tait, John Tait, Norman Campbell, Be...   \n",
       "Cleopatra                    Helen Gardner, Pearl Sindelar, Miss Fielding, ...   \n",
       "\n",
       "                                                                   description  \\\n",
       "title                                                                            \n",
       "The Story of the Kelly Gang  True story of notorious Australian outlaw Ned ...   \n",
       "Cleopatra                    The fabled queen of Egypt's affair with Roman ...   \n",
       "\n",
       "                             avg_vote  votes   budget usa_gross_income  \\\n",
       "title                                                                    \n",
       "The Story of the Kelly Gang       6.1    589   $ 2250              NaN   \n",
       "Cleopatra                         5.2    446  $ 45000              NaN   \n",
       "\n",
       "                            worlwide_gross_income  metascore  \\\n",
       "title                                                          \n",
       "The Story of the Kelly Gang                   NaN        NaN   \n",
       "Cleopatra                                     NaN        NaN   \n",
       "\n",
       "                             reviews_from_users  reviews_from_critics  \n",
       "title                                                                  \n",
       "The Story of the Kelly Gang                 7.0                   7.0  \n",
       "Cleopatra                                  25.0                   3.0  "
      ]
     },
     "execution_count": 428,
     "metadata": {},
     "output_type": "execute_result"
    }
   ],
   "source": [
    "# filter data to keep budget values in $\n",
    "\n",
    "USmovies=movies.budget.str.split(expand=True)[0]=='$'\n",
    "movies=movies[USmovies]\n",
    "movies.head(2)"
   ]
  },
  {
   "cell_type": "code",
   "execution_count": 429,
   "metadata": {},
   "outputs": [
    {
     "data": {
      "text/plain": [
       "(16602, 21)"
      ]
     },
     "execution_count": 429,
     "metadata": {},
     "output_type": "execute_result"
    }
   ],
   "source": [
    "movies.shape"
   ]
  },
  {
   "cell_type": "code",
   "execution_count": 430,
   "metadata": {},
   "outputs": [
    {
     "data": {
      "text/html": [
       "<div>\n",
       "<style scoped>\n",
       "    .dataframe tbody tr th:only-of-type {\n",
       "        vertical-align: middle;\n",
       "    }\n",
       "\n",
       "    .dataframe tbody tr th {\n",
       "        vertical-align: top;\n",
       "    }\n",
       "\n",
       "    .dataframe thead th {\n",
       "        text-align: right;\n",
       "    }\n",
       "</style>\n",
       "<table border=\"1\" class=\"dataframe\">\n",
       "  <thead>\n",
       "    <tr style=\"text-align: right;\">\n",
       "      <th></th>\n",
       "      <th>genre</th>\n",
       "      <th>duration</th>\n",
       "      <th>country</th>\n",
       "      <th>language</th>\n",
       "      <th>avg_vote</th>\n",
       "      <th>votes</th>\n",
       "      <th>budget</th>\n",
       "      <th>usa_gross_income</th>\n",
       "      <th>worlwide_gross_income</th>\n",
       "      <th>reviews_from_users</th>\n",
       "      <th>reviews_from_critics</th>\n",
       "    </tr>\n",
       "    <tr>\n",
       "      <th>title</th>\n",
       "      <th></th>\n",
       "      <th></th>\n",
       "      <th></th>\n",
       "      <th></th>\n",
       "      <th></th>\n",
       "      <th></th>\n",
       "      <th></th>\n",
       "      <th></th>\n",
       "      <th></th>\n",
       "      <th></th>\n",
       "      <th></th>\n",
       "    </tr>\n",
       "  </thead>\n",
       "  <tbody>\n",
       "    <tr>\n",
       "      <th>The Story of the Kelly Gang</th>\n",
       "      <td>Biography, Crime, Drama</td>\n",
       "      <td>70</td>\n",
       "      <td>Australia</td>\n",
       "      <td>None</td>\n",
       "      <td>6.1</td>\n",
       "      <td>589</td>\n",
       "      <td>$ 2250</td>\n",
       "      <td>NaN</td>\n",
       "      <td>NaN</td>\n",
       "      <td>7.0</td>\n",
       "      <td>7.0</td>\n",
       "    </tr>\n",
       "    <tr>\n",
       "      <th>Cleopatra</th>\n",
       "      <td>Drama, History</td>\n",
       "      <td>100</td>\n",
       "      <td>USA</td>\n",
       "      <td>English</td>\n",
       "      <td>5.2</td>\n",
       "      <td>446</td>\n",
       "      <td>$ 45000</td>\n",
       "      <td>NaN</td>\n",
       "      <td>NaN</td>\n",
       "      <td>25.0</td>\n",
       "      <td>3.0</td>\n",
       "    </tr>\n",
       "  </tbody>\n",
       "</table>\n",
       "</div>"
      ],
      "text/plain": [
       "                                               genre  duration    country  \\\n",
       "title                                                                       \n",
       "The Story of the Kelly Gang  Biography, Crime, Drama        70  Australia   \n",
       "Cleopatra                             Drama, History       100        USA   \n",
       "\n",
       "                            language  avg_vote  votes   budget  \\\n",
       "title                                                            \n",
       "The Story of the Kelly Gang     None       6.1    589   $ 2250   \n",
       "Cleopatra                    English       5.2    446  $ 45000   \n",
       "\n",
       "                            usa_gross_income worlwide_gross_income  \\\n",
       "title                                                                \n",
       "The Story of the Kelly Gang              NaN                   NaN   \n",
       "Cleopatra                                NaN                   NaN   \n",
       "\n",
       "                             reviews_from_users  reviews_from_critics  \n",
       "title                                                                  \n",
       "The Story of the Kelly Gang                 7.0                   7.0  \n",
       "Cleopatra                                  25.0                   3.0  "
      ]
     },
     "execution_count": 430,
     "metadata": {},
     "output_type": "execute_result"
    }
   ],
   "source": [
    "# drop columns\n",
    "\n",
    "movies.drop(labels=['description','actors','director','date_published','original_title',\n",
    "                    'imdb_title_id','writer','production_company','year', 'metascore'],axis=1,inplace=True)\n",
    "movies.head(2)"
   ]
  },
  {
   "cell_type": "code",
   "execution_count": 431,
   "metadata": {},
   "outputs": [],
   "source": [
    "# drop missing values\n",
    "\n",
    "movies.dropna(inplace=True)"
   ]
  },
  {
   "cell_type": "code",
   "execution_count": 432,
   "metadata": {},
   "outputs": [],
   "source": [
    "# remove the dollar sign from the 'budget', 'usa_gross_income', and 'worlwide_gross_income' columns\n",
    "\n",
    "movies['budget']=movies['budget'].replace({'\\$':''}, regex = True)\n",
    "movies['usa_gross_income']=movies['usa_gross_income'].replace({'\\$':''}, regex = True)\n",
    "movies['worlwide_gross_income']=movies['worlwide_gross_income'].replace({'\\$':''}, regex = True)"
   ]
  },
  {
   "cell_type": "code",
   "execution_count": 433,
   "metadata": {},
   "outputs": [
    {
     "data": {
      "text/html": [
       "<div>\n",
       "<style scoped>\n",
       "    .dataframe tbody tr th:only-of-type {\n",
       "        vertical-align: middle;\n",
       "    }\n",
       "\n",
       "    .dataframe tbody tr th {\n",
       "        vertical-align: top;\n",
       "    }\n",
       "\n",
       "    .dataframe thead th {\n",
       "        text-align: right;\n",
       "    }\n",
       "</style>\n",
       "<table border=\"1\" class=\"dataframe\">\n",
       "  <thead>\n",
       "    <tr style=\"text-align: right;\">\n",
       "      <th></th>\n",
       "      <th>genre</th>\n",
       "      <th>duration</th>\n",
       "      <th>country</th>\n",
       "      <th>language</th>\n",
       "      <th>avg_vote</th>\n",
       "      <th>votes</th>\n",
       "      <th>budget</th>\n",
       "      <th>usa_gross_income</th>\n",
       "      <th>worlwide_gross_income</th>\n",
       "      <th>reviews_from_users</th>\n",
       "      <th>reviews_from_critics</th>\n",
       "    </tr>\n",
       "    <tr>\n",
       "      <th>title</th>\n",
       "      <th></th>\n",
       "      <th></th>\n",
       "      <th></th>\n",
       "      <th></th>\n",
       "      <th></th>\n",
       "      <th></th>\n",
       "      <th></th>\n",
       "      <th></th>\n",
       "      <th></th>\n",
       "      <th></th>\n",
       "      <th></th>\n",
       "    </tr>\n",
       "  </thead>\n",
       "  <tbody>\n",
       "    <tr>\n",
       "      <th>Il gabinetto del dottor Caligari</th>\n",
       "      <td>Fantasy, Horror, Mystery</td>\n",
       "      <td>76</td>\n",
       "      <td>Germany</td>\n",
       "      <td>German</td>\n",
       "      <td>8.1</td>\n",
       "      <td>55601</td>\n",
       "      <td>18000</td>\n",
       "      <td>8811</td>\n",
       "      <td>8811</td>\n",
       "      <td>237.0</td>\n",
       "      <td>160.0</td>\n",
       "    </tr>\n",
       "    <tr>\n",
       "      <th>I quattro cavalieri dell'Apocalisse</th>\n",
       "      <td>Drama, Romance, War</td>\n",
       "      <td>150</td>\n",
       "      <td>USA</td>\n",
       "      <td>None</td>\n",
       "      <td>7.2</td>\n",
       "      <td>3058</td>\n",
       "      <td>800000</td>\n",
       "      <td>9183673</td>\n",
       "      <td>9183673</td>\n",
       "      <td>45.0</td>\n",
       "      <td>16.0</td>\n",
       "    </tr>\n",
       "  </tbody>\n",
       "</table>\n",
       "</div>"
      ],
      "text/plain": [
       "                                                        genre  duration  \\\n",
       "title                                                                     \n",
       "Il gabinetto del dottor Caligari     Fantasy, Horror, Mystery        76   \n",
       "I quattro cavalieri dell'Apocalisse       Drama, Romance, War       150   \n",
       "\n",
       "                                     country language  avg_vote  votes  \\\n",
       "title                                                                    \n",
       "Il gabinetto del dottor Caligari     Germany   German       8.1  55601   \n",
       "I quattro cavalieri dell'Apocalisse      USA     None       7.2   3058   \n",
       "\n",
       "                                      budget usa_gross_income  \\\n",
       "title                                                           \n",
       "Il gabinetto del dottor Caligari       18000             8811   \n",
       "I quattro cavalieri dell'Apocalisse   800000          9183673   \n",
       "\n",
       "                                    worlwide_gross_income  reviews_from_users  \\\n",
       "title                                                                           \n",
       "Il gabinetto del dottor Caligari                     8811               237.0   \n",
       "I quattro cavalieri dell'Apocalisse               9183673                45.0   \n",
       "\n",
       "                                     reviews_from_critics  \n",
       "title                                                      \n",
       "Il gabinetto del dottor Caligari                    160.0  \n",
       "I quattro cavalieri dell'Apocalisse                  16.0  "
      ]
     },
     "execution_count": 433,
     "metadata": {},
     "output_type": "execute_result"
    }
   ],
   "source": [
    "movies.head(2)"
   ]
  },
  {
   "cell_type": "code",
   "execution_count": 434,
   "metadata": {},
   "outputs": [
    {
     "data": {
      "text/html": [
       "<div>\n",
       "<style scoped>\n",
       "    .dataframe tbody tr th:only-of-type {\n",
       "        vertical-align: middle;\n",
       "    }\n",
       "\n",
       "    .dataframe tbody tr th {\n",
       "        vertical-align: top;\n",
       "    }\n",
       "\n",
       "    .dataframe thead th {\n",
       "        text-align: right;\n",
       "    }\n",
       "</style>\n",
       "<table border=\"1\" class=\"dataframe\">\n",
       "  <thead>\n",
       "    <tr style=\"text-align: right;\">\n",
       "      <th></th>\n",
       "      <th>0</th>\n",
       "      <th>1</th>\n",
       "      <th>2</th>\n",
       "    </tr>\n",
       "    <tr>\n",
       "      <th>title</th>\n",
       "      <th></th>\n",
       "      <th></th>\n",
       "      <th></th>\n",
       "    </tr>\n",
       "  </thead>\n",
       "  <tbody>\n",
       "    <tr>\n",
       "      <th>Il gabinetto del dottor Caligari</th>\n",
       "      <td>Fantasy</td>\n",
       "      <td>Horror,</td>\n",
       "      <td>Mystery</td>\n",
       "    </tr>\n",
       "    <tr>\n",
       "      <th>I quattro cavalieri dell'Apocalisse</th>\n",
       "      <td>Drama</td>\n",
       "      <td>Romance,</td>\n",
       "      <td>War</td>\n",
       "    </tr>\n",
       "    <tr>\n",
       "      <th>Luci della città</th>\n",
       "      <td>Comedy</td>\n",
       "      <td>Drama,</td>\n",
       "      <td>Romance</td>\n",
       "    </tr>\n",
       "  </tbody>\n",
       "</table>\n",
       "</div>"
      ],
      "text/plain": [
       "                                           0         1        2\n",
       "title                                                          \n",
       "Il gabinetto del dottor Caligari     Fantasy   Horror,  Mystery\n",
       "I quattro cavalieri dell'Apocalisse    Drama  Romance,      War\n",
       "Luci della città                      Comedy    Drama,  Romance"
      ]
     },
     "execution_count": 434,
     "metadata": {},
     "output_type": "execute_result"
    }
   ],
   "source": [
    "#split up the listed genres\n",
    "\n",
    "movies1=movies.genre.str.split(expand=True)\n",
    "movies1[0]=movies1[0].replace({'\\,':''}, regex = True)\n",
    "movies1.head(3)"
   ]
  },
  {
   "cell_type": "code",
   "execution_count": 435,
   "metadata": {
    "scrolled": true
   },
   "outputs": [
    {
     "data": {
      "text/plain": [
       "array(['Fantasy', 'Drama', 'Comedy', 'Crime', 'Animation', 'Adventure',\n",
       "       'Biography', 'Film-Noir', 'Horror', 'Action', 'Mystery', 'Musical',\n",
       "       'War', 'Western', 'Sci-Fi', 'Family', 'Documentary', 'Romance',\n",
       "       'Thriller', 'Music', 'Sport'], dtype=object)"
      ]
     },
     "execution_count": 435,
     "metadata": {},
     "output_type": "execute_result"
    }
   ],
   "source": [
    "movies1[0].unique()"
   ]
  },
  {
   "cell_type": "code",
   "execution_count": 436,
   "metadata": {
    "scrolled": true
   },
   "outputs": [
    {
     "data": {
      "text/plain": [
       "array(['Horror,', 'Romance,', 'Drama,', 'Family,', 'History,', 'Drama',\n",
       "       'Comedy,', 'Mystery', 'Fantasy,', 'Crime,', None, 'Film-Noir',\n",
       "       'Musical,', 'Thriller', 'Family', 'Adventure,', 'History', 'War',\n",
       "       'Western', 'Mystery,', 'Biography,', 'Romance', 'Music,', 'War,',\n",
       "       'Sci-Fi', 'Music', 'Sci-Fi,', 'Horror', 'Musical', 'Crime',\n",
       "       'Sport', 'Comedy', 'Adventure', 'Sport,', 'Fantasy', 'Thriller,',\n",
       "       'Action,', 'Action', 'Animation'], dtype=object)"
      ]
     },
     "execution_count": 436,
     "metadata": {},
     "output_type": "execute_result"
    }
   ],
   "source": [
    "movies1[1].unique()"
   ]
  },
  {
   "cell_type": "code",
   "execution_count": 437,
   "metadata": {
    "scrolled": true
   },
   "outputs": [
    {
     "data": {
      "text/plain": [
       "array(['Mystery', 'War', 'Romance', 'Family', 'Fantasy', None, 'History',\n",
       "       'Film-Noir', 'Western', 'Drama', 'Horror', 'Comedy', 'Thriller',\n",
       "       'Musical', 'Sci-Fi', 'Crime', 'Music', 'Sport', 'Adventure',\n",
       "       'Action', 'Biography'], dtype=object)"
      ]
     },
     "execution_count": 437,
     "metadata": {},
     "output_type": "execute_result"
    }
   ],
   "source": [
    "movies1[2].unique()"
   ]
  },
  {
   "cell_type": "code",
   "execution_count": 438,
   "metadata": {},
   "outputs": [
    {
     "name": "stdout",
     "output_type": "stream",
     "text": [
      "['Biography', 'Family', 'Comedy', 'Adventure', 'Sci-Fi', 'Film-Noir', 'Musical', 'Mystery', 'Drama', 'History', 'Romance', 'Animation', 'War', 'Horror', 'Sport', 'Music', 'Western', 'Thriller', 'Action', 'Crime', 'Fantasy']\n"
     ]
    }
   ],
   "source": [
    "# remove the duplicates\n",
    "\n",
    "movie_genres_listed=['Comedy', 'Crime', 'Animation', 'Drama', 'Adventure', 'Action',\n",
    "       'Mystery', 'War', 'Horror', 'Western', 'Biography', 'Family',\n",
    "       'Musical', 'Fantasy', 'Sci-Fi', 'Romance', 'Thriller', 'Music','Drama', 'Family', 'History', 'Drama', 'Comedy', 'Mystery',\n",
    "       'Romance', 'Fantasy','Musical', 'Family', 'Adventure',\n",
    "       'War', 'Thriller', 'Western', 'Mystery', 'Biography', 'Crime',\n",
    "       'Music', 'Romance', 'War', 'Sci-Fi', 'Music', 'Sci-Fi',\n",
    "       'Musical', 'Horror', 'Crime', 'Sport', 'Comedy', 'Horror',\n",
    "       'Adventure', 'Sport', 'Action', 'Fantasy', 'Action', 'History',\n",
    "       'Thriller','Romance', 'Family', 'Fantasy', 'War', 'Western', 'Mystery',\n",
    "       'Horror', 'Comedy', 'Film-Noir', 'Thriller', 'History', 'Drama',\n",
    "       'Musical', 'Sci-Fi', 'Music', 'Crime', 'Sport', 'Adventure',\n",
    "       'Action', 'Biography']\n",
    "\n",
    "genres_filter=set(movie_genres_listed)\n",
    "print(list(genres_filter))"
   ]
  },
  {
   "cell_type": "code",
   "execution_count": 439,
   "metadata": {},
   "outputs": [
    {
     "data": {
      "text/html": [
       "<div>\n",
       "<style scoped>\n",
       "    .dataframe tbody tr th:only-of-type {\n",
       "        vertical-align: middle;\n",
       "    }\n",
       "\n",
       "    .dataframe tbody tr th {\n",
       "        vertical-align: top;\n",
       "    }\n",
       "\n",
       "    .dataframe thead th {\n",
       "        text-align: right;\n",
       "    }\n",
       "</style>\n",
       "<table border=\"1\" class=\"dataframe\">\n",
       "  <thead>\n",
       "    <tr style=\"text-align: right;\">\n",
       "      <th></th>\n",
       "      <th>duration</th>\n",
       "      <th>country</th>\n",
       "      <th>language</th>\n",
       "      <th>avg_vote</th>\n",
       "      <th>votes</th>\n",
       "      <th>budget</th>\n",
       "      <th>usa_gross_income</th>\n",
       "      <th>worlwide_gross_income</th>\n",
       "      <th>reviews_from_users</th>\n",
       "      <th>reviews_from_critics</th>\n",
       "      <th>Horror</th>\n",
       "      <th>Thriller</th>\n",
       "      <th>Family</th>\n",
       "      <th>Animation</th>\n",
       "      <th>Crime</th>\n",
       "      <th>Biography</th>\n",
       "      <th>Sci-Fi</th>\n",
       "      <th>Fantasy</th>\n",
       "      <th>Drama</th>\n",
       "      <th>Adventure</th>\n",
       "      <th>Western</th>\n",
       "      <th>War</th>\n",
       "      <th>Sport</th>\n",
       "      <th>Mystery</th>\n",
       "      <th>Romance</th>\n",
       "      <th>Action</th>\n",
       "      <th>History</th>\n",
       "      <th>Film-Noir</th>\n",
       "      <th>Comedy</th>\n",
       "      <th>Musical</th>\n",
       "    </tr>\n",
       "    <tr>\n",
       "      <th>title</th>\n",
       "      <th></th>\n",
       "      <th></th>\n",
       "      <th></th>\n",
       "      <th></th>\n",
       "      <th></th>\n",
       "      <th></th>\n",
       "      <th></th>\n",
       "      <th></th>\n",
       "      <th></th>\n",
       "      <th></th>\n",
       "      <th></th>\n",
       "      <th></th>\n",
       "      <th></th>\n",
       "      <th></th>\n",
       "      <th></th>\n",
       "      <th></th>\n",
       "      <th></th>\n",
       "      <th></th>\n",
       "      <th></th>\n",
       "      <th></th>\n",
       "      <th></th>\n",
       "      <th></th>\n",
       "      <th></th>\n",
       "      <th></th>\n",
       "      <th></th>\n",
       "      <th></th>\n",
       "      <th></th>\n",
       "      <th></th>\n",
       "      <th></th>\n",
       "      <th></th>\n",
       "    </tr>\n",
       "  </thead>\n",
       "  <tbody>\n",
       "    <tr>\n",
       "      <th>Il gabinetto del dottor Caligari</th>\n",
       "      <td>76</td>\n",
       "      <td>Germany</td>\n",
       "      <td>German</td>\n",
       "      <td>8.1</td>\n",
       "      <td>55601</td>\n",
       "      <td>18000</td>\n",
       "      <td>8811</td>\n",
       "      <td>8811</td>\n",
       "      <td>237.0</td>\n",
       "      <td>160.0</td>\n",
       "      <td>1</td>\n",
       "      <td>0</td>\n",
       "      <td>0</td>\n",
       "      <td>0</td>\n",
       "      <td>0</td>\n",
       "      <td>0</td>\n",
       "      <td>0</td>\n",
       "      <td>1</td>\n",
       "      <td>0</td>\n",
       "      <td>0</td>\n",
       "      <td>0</td>\n",
       "      <td>0</td>\n",
       "      <td>0</td>\n",
       "      <td>1</td>\n",
       "      <td>0</td>\n",
       "      <td>0</td>\n",
       "      <td>0</td>\n",
       "      <td>0</td>\n",
       "      <td>0</td>\n",
       "      <td>0</td>\n",
       "    </tr>\n",
       "    <tr>\n",
       "      <th>I quattro cavalieri dell'Apocalisse</th>\n",
       "      <td>150</td>\n",
       "      <td>USA</td>\n",
       "      <td>None</td>\n",
       "      <td>7.2</td>\n",
       "      <td>3058</td>\n",
       "      <td>800000</td>\n",
       "      <td>9183673</td>\n",
       "      <td>9183673</td>\n",
       "      <td>45.0</td>\n",
       "      <td>16.0</td>\n",
       "      <td>0</td>\n",
       "      <td>0</td>\n",
       "      <td>0</td>\n",
       "      <td>0</td>\n",
       "      <td>0</td>\n",
       "      <td>0</td>\n",
       "      <td>0</td>\n",
       "      <td>0</td>\n",
       "      <td>1</td>\n",
       "      <td>0</td>\n",
       "      <td>0</td>\n",
       "      <td>1</td>\n",
       "      <td>0</td>\n",
       "      <td>0</td>\n",
       "      <td>1</td>\n",
       "      <td>0</td>\n",
       "      <td>0</td>\n",
       "      <td>0</td>\n",
       "      <td>0</td>\n",
       "      <td>0</td>\n",
       "    </tr>\n",
       "    <tr>\n",
       "      <th>Luci della città</th>\n",
       "      <td>87</td>\n",
       "      <td>USA</td>\n",
       "      <td>English</td>\n",
       "      <td>8.5</td>\n",
       "      <td>162668</td>\n",
       "      <td>1500000</td>\n",
       "      <td>19181</td>\n",
       "      <td>46008</td>\n",
       "      <td>295.0</td>\n",
       "      <td>122.0</td>\n",
       "      <td>0</td>\n",
       "      <td>0</td>\n",
       "      <td>0</td>\n",
       "      <td>0</td>\n",
       "      <td>0</td>\n",
       "      <td>0</td>\n",
       "      <td>0</td>\n",
       "      <td>0</td>\n",
       "      <td>1</td>\n",
       "      <td>0</td>\n",
       "      <td>0</td>\n",
       "      <td>0</td>\n",
       "      <td>0</td>\n",
       "      <td>0</td>\n",
       "      <td>1</td>\n",
       "      <td>0</td>\n",
       "      <td>0</td>\n",
       "      <td>0</td>\n",
       "      <td>1</td>\n",
       "      <td>0</td>\n",
       "    </tr>\n",
       "  </tbody>\n",
       "</table>\n",
       "</div>"
      ],
      "text/plain": [
       "                                     duration  country language  avg_vote  \\\n",
       "title                                                                       \n",
       "Il gabinetto del dottor Caligari           76  Germany   German       8.1   \n",
       "I quattro cavalieri dell'Apocalisse       150      USA     None       7.2   \n",
       "Luci della città                           87      USA  English       8.5   \n",
       "\n",
       "                                      votes    budget usa_gross_income  \\\n",
       "title                                                                    \n",
       "Il gabinetto del dottor Caligari      55601     18000             8811   \n",
       "I quattro cavalieri dell'Apocalisse    3058    800000          9183673   \n",
       "Luci della città                     162668   1500000            19181   \n",
       "\n",
       "                                    worlwide_gross_income  reviews_from_users  \\\n",
       "title                                                                           \n",
       "Il gabinetto del dottor Caligari                     8811               237.0   \n",
       "I quattro cavalieri dell'Apocalisse               9183673                45.0   \n",
       "Luci della città                                    46008               295.0   \n",
       "\n",
       "                                     reviews_from_critics  Horror  Thriller  \\\n",
       "title                                                                         \n",
       "Il gabinetto del dottor Caligari                    160.0       1         0   \n",
       "I quattro cavalieri dell'Apocalisse                  16.0       0         0   \n",
       "Luci della città                                    122.0       0         0   \n",
       "\n",
       "                                     Family  Animation  Crime  Biography  \\\n",
       "title                                                                      \n",
       "Il gabinetto del dottor Caligari          0          0      0          0   \n",
       "I quattro cavalieri dell'Apocalisse       0          0      0          0   \n",
       "Luci della città                          0          0      0          0   \n",
       "\n",
       "                                     Sci-Fi  Fantasy  Drama  Adventure  \\\n",
       "title                                                                    \n",
       "Il gabinetto del dottor Caligari          0        1      0          0   \n",
       "I quattro cavalieri dell'Apocalisse       0        0      1          0   \n",
       "Luci della città                          0        0      1          0   \n",
       "\n",
       "                                     Western  War  Sport  Mystery  Romance  \\\n",
       "title                                                                        \n",
       "Il gabinetto del dottor Caligari           0    0      0        1        0   \n",
       "I quattro cavalieri dell'Apocalisse        0    1      0        0        1   \n",
       "Luci della città                           0    0      0        0        1   \n",
       "\n",
       "                                     Action  History  Film-Noir  Comedy  \\\n",
       "title                                                                     \n",
       "Il gabinetto del dottor Caligari          0        0          0       0   \n",
       "I quattro cavalieri dell'Apocalisse       0        0          0       0   \n",
       "Luci della città                          0        0          0       1   \n",
       "\n",
       "                                     Musical  \n",
       "title                                         \n",
       "Il gabinetto del dottor Caligari           0  \n",
       "I quattro cavalieri dell'Apocalisse        0  \n",
       "Luci della città                           0  "
      ]
     },
     "execution_count": 439,
     "metadata": {},
     "output_type": "execute_result"
    }
   ],
   "source": [
    "# Categorize the data\n",
    "\n",
    "genresList=['Horror', 'Thriller', 'Family', 'Animation', 'Crime', 'Biography', 'Sci-Fi', \n",
    "            'Fantasy', 'Drama', 'Adventure', 'Western', 'War', 'Sport', 'Mystery', 'Romance', 'Action', \n",
    "            'History', 'Film-Noir', 'Comedy', 'Musical']\n",
    "\n",
    "for i in genresList:\n",
    "    movies[i]=((movies.genre.str.find(i))>-1)*1\n",
    "\n",
    "movies.drop(labels=['genre'], axis=1, inplace=True)   \n",
    "movies.head(3)"
   ]
  },
  {
   "cell_type": "code",
   "execution_count": 440,
   "metadata": {},
   "outputs": [
    {
     "data": {
      "text/plain": [
       "(7250, 30)"
      ]
     },
     "execution_count": 440,
     "metadata": {},
     "output_type": "execute_result"
    }
   ],
   "source": [
    "movies.shape"
   ]
  },
  {
   "cell_type": "code",
   "execution_count": 441,
   "metadata": {
    "scrolled": true
   },
   "outputs": [
    {
     "data": {
      "text/html": [
       "<div>\n",
       "<style scoped>\n",
       "    .dataframe tbody tr th:only-of-type {\n",
       "        vertical-align: middle;\n",
       "    }\n",
       "\n",
       "    .dataframe tbody tr th {\n",
       "        vertical-align: top;\n",
       "    }\n",
       "\n",
       "    .dataframe thead th {\n",
       "        text-align: right;\n",
       "    }\n",
       "</style>\n",
       "<table border=\"1\" class=\"dataframe\">\n",
       "  <thead>\n",
       "    <tr style=\"text-align: right;\">\n",
       "      <th></th>\n",
       "      <th>0</th>\n",
       "      <th>1</th>\n",
       "      <th>2</th>\n",
       "      <th>3</th>\n",
       "      <th>4</th>\n",
       "      <th>5</th>\n",
       "      <th>6</th>\n",
       "      <th>7</th>\n",
       "      <th>8</th>\n",
       "      <th>9</th>\n",
       "      <th>10</th>\n",
       "      <th>11</th>\n",
       "      <th>12</th>\n",
       "      <th>13</th>\n",
       "    </tr>\n",
       "    <tr>\n",
       "      <th>title</th>\n",
       "      <th></th>\n",
       "      <th></th>\n",
       "      <th></th>\n",
       "      <th></th>\n",
       "      <th></th>\n",
       "      <th></th>\n",
       "      <th></th>\n",
       "      <th></th>\n",
       "      <th></th>\n",
       "      <th></th>\n",
       "      <th></th>\n",
       "      <th></th>\n",
       "      <th></th>\n",
       "      <th></th>\n",
       "    </tr>\n",
       "  </thead>\n",
       "  <tbody>\n",
       "    <tr>\n",
       "      <th>Il gabinetto del dottor Caligari</th>\n",
       "      <td>Germany</td>\n",
       "      <td>None</td>\n",
       "      <td>None</td>\n",
       "      <td>None</td>\n",
       "      <td>None</td>\n",
       "      <td>None</td>\n",
       "      <td>None</td>\n",
       "      <td>None</td>\n",
       "      <td>None</td>\n",
       "      <td>None</td>\n",
       "      <td>None</td>\n",
       "      <td>None</td>\n",
       "      <td>None</td>\n",
       "      <td>None</td>\n",
       "    </tr>\n",
       "    <tr>\n",
       "      <th>I quattro cavalieri dell'Apocalisse</th>\n",
       "      <td>USA</td>\n",
       "      <td>None</td>\n",
       "      <td>None</td>\n",
       "      <td>None</td>\n",
       "      <td>None</td>\n",
       "      <td>None</td>\n",
       "      <td>None</td>\n",
       "      <td>None</td>\n",
       "      <td>None</td>\n",
       "      <td>None</td>\n",
       "      <td>None</td>\n",
       "      <td>None</td>\n",
       "      <td>None</td>\n",
       "      <td>None</td>\n",
       "    </tr>\n",
       "    <tr>\n",
       "      <th>Luci della città</th>\n",
       "      <td>USA</td>\n",
       "      <td>None</td>\n",
       "      <td>None</td>\n",
       "      <td>None</td>\n",
       "      <td>None</td>\n",
       "      <td>None</td>\n",
       "      <td>None</td>\n",
       "      <td>None</td>\n",
       "      <td>None</td>\n",
       "      <td>None</td>\n",
       "      <td>None</td>\n",
       "      <td>None</td>\n",
       "      <td>None</td>\n",
       "      <td>None</td>\n",
       "    </tr>\n",
       "  </tbody>\n",
       "</table>\n",
       "</div>"
      ],
      "text/plain": [
       "                                          0     1     2     3     4     5   \\\n",
       "title                                                                        \n",
       "Il gabinetto del dottor Caligari     Germany  None  None  None  None  None   \n",
       "I quattro cavalieri dell'Apocalisse      USA  None  None  None  None  None   \n",
       "Luci della città                         USA  None  None  None  None  None   \n",
       "\n",
       "                                       6     7     8     9     10    11    12  \\\n",
       "title                                                                           \n",
       "Il gabinetto del dottor Caligari     None  None  None  None  None  None  None   \n",
       "I quattro cavalieri dell'Apocalisse  None  None  None  None  None  None  None   \n",
       "Luci della città                     None  None  None  None  None  None  None   \n",
       "\n",
       "                                       13  \n",
       "title                                      \n",
       "Il gabinetto del dottor Caligari     None  \n",
       "I quattro cavalieri dell'Apocalisse  None  \n",
       "Luci della città                     None  "
      ]
     },
     "execution_count": 441,
     "metadata": {},
     "output_type": "execute_result"
    }
   ],
   "source": [
    "#split up the listed countries\n",
    "\n",
    "countries=movies.country.str.split(expand=True)\n",
    "countries[0]=countries[0].replace({'\\,':''}, regex = True)\n",
    "countries.head(3)"
   ]
  },
  {
   "cell_type": "code",
   "execution_count": 442,
   "metadata": {},
   "outputs": [
    {
     "data": {
      "text/html": [
       "<div>\n",
       "<style scoped>\n",
       "    .dataframe tbody tr th:only-of-type {\n",
       "        vertical-align: middle;\n",
       "    }\n",
       "\n",
       "    .dataframe tbody tr th {\n",
       "        vertical-align: top;\n",
       "    }\n",
       "\n",
       "    .dataframe thead th {\n",
       "        text-align: right;\n",
       "    }\n",
       "</style>\n",
       "<table border=\"1\" class=\"dataframe\">\n",
       "  <thead>\n",
       "    <tr style=\"text-align: right;\">\n",
       "      <th></th>\n",
       "      <th>0</th>\n",
       "      <th>1</th>\n",
       "      <th>2</th>\n",
       "      <th>3</th>\n",
       "      <th>4</th>\n",
       "      <th>5</th>\n",
       "      <th>6</th>\n",
       "      <th>7</th>\n",
       "      <th>8</th>\n",
       "      <th>9</th>\n",
       "      <th>10</th>\n",
       "      <th>11</th>\n",
       "      <th>12</th>\n",
       "      <th>13</th>\n",
       "    </tr>\n",
       "    <tr>\n",
       "      <th>title</th>\n",
       "      <th></th>\n",
       "      <th></th>\n",
       "      <th></th>\n",
       "      <th></th>\n",
       "      <th></th>\n",
       "      <th></th>\n",
       "      <th></th>\n",
       "      <th></th>\n",
       "      <th></th>\n",
       "      <th></th>\n",
       "      <th></th>\n",
       "      <th></th>\n",
       "      <th></th>\n",
       "      <th></th>\n",
       "    </tr>\n",
       "  </thead>\n",
       "  <tbody>\n",
       "    <tr>\n",
       "      <th>Il gabinetto del dottor Caligari</th>\n",
       "      <td>Germany</td>\n",
       "      <td>None</td>\n",
       "      <td>None</td>\n",
       "      <td>None</td>\n",
       "      <td>None</td>\n",
       "      <td>None</td>\n",
       "      <td>None</td>\n",
       "      <td>None</td>\n",
       "      <td>None</td>\n",
       "      <td>None</td>\n",
       "      <td>None</td>\n",
       "      <td>None</td>\n",
       "      <td>None</td>\n",
       "      <td>None</td>\n",
       "    </tr>\n",
       "    <tr>\n",
       "      <th>I quattro cavalieri dell'Apocalisse</th>\n",
       "      <td>USA</td>\n",
       "      <td>None</td>\n",
       "      <td>None</td>\n",
       "      <td>None</td>\n",
       "      <td>None</td>\n",
       "      <td>None</td>\n",
       "      <td>None</td>\n",
       "      <td>None</td>\n",
       "      <td>None</td>\n",
       "      <td>None</td>\n",
       "      <td>None</td>\n",
       "      <td>None</td>\n",
       "      <td>None</td>\n",
       "      <td>None</td>\n",
       "    </tr>\n",
       "    <tr>\n",
       "      <th>Il bandito della Casbah</th>\n",
       "      <td>France</td>\n",
       "      <td>None</td>\n",
       "      <td>None</td>\n",
       "      <td>None</td>\n",
       "      <td>None</td>\n",
       "      <td>None</td>\n",
       "      <td>None</td>\n",
       "      <td>None</td>\n",
       "      <td>None</td>\n",
       "      <td>None</td>\n",
       "      <td>None</td>\n",
       "      <td>None</td>\n",
       "      <td>None</td>\n",
       "      <td>None</td>\n",
       "    </tr>\n",
       "  </tbody>\n",
       "</table>\n",
       "</div>"
      ],
      "text/plain": [
       "                                          0     1     2     3     4     5   \\\n",
       "title                                                                        \n",
       "Il gabinetto del dottor Caligari     Germany  None  None  None  None  None   \n",
       "I quattro cavalieri dell'Apocalisse      USA  None  None  None  None  None   \n",
       "Il bandito della Casbah               France  None  None  None  None  None   \n",
       "\n",
       "                                       6     7     8     9     10    11    12  \\\n",
       "title                                                                           \n",
       "Il gabinetto del dottor Caligari     None  None  None  None  None  None  None   \n",
       "I quattro cavalieri dell'Apocalisse  None  None  None  None  None  None  None   \n",
       "Il bandito della Casbah              None  None  None  None  None  None  None   \n",
       "\n",
       "                                       13  \n",
       "title                                      \n",
       "Il gabinetto del dottor Caligari     None  \n",
       "I quattro cavalieri dell'Apocalisse  None  \n",
       "Il bandito della Casbah              None  "
      ]
     },
     "execution_count": 442,
     "metadata": {},
     "output_type": "execute_result"
    }
   ],
   "source": [
    "# drop the duplicate countries\n",
    "\n",
    "countries.drop_duplicates(subset=[0], inplace=True)\n",
    "countries.head(3)"
   ]
  },
  {
   "cell_type": "code",
   "execution_count": 443,
   "metadata": {},
   "outputs": [
    {
     "data": {
      "text/plain": [
       "array(['Germany', 'USA', 'France', 'Italy', 'Japan', 'UK', 'Switzerland',\n",
       "       'Algeria', 'Soviet', 'Mexico', 'Iran', 'West', 'Canada',\n",
       "       'Australia', 'South', 'Spain', 'Sweden', 'Hong', 'New',\n",
       "       'Yugoslavia', 'Ireland', 'Taiwan', 'China', 'Portugal', 'Austria',\n",
       "       'Russia', 'Republic', 'Federal', 'Czech', 'Netherlands', 'Denmark',\n",
       "       'Aruba', 'Brazil', 'Greece', 'India', 'Jamaica', 'Argentina',\n",
       "       'Norway', 'Hungary', 'Afghanistan', 'Kazakhstan', 'Chile',\n",
       "       'Colombia', 'Philippines', 'Israel', 'Palestine', 'Romania',\n",
       "       'Belgium', 'Poland', 'Bhutan', 'Iceland', 'Serbia', 'Pakistan',\n",
       "       'Georgia', 'Vietnam', 'United', 'Qatar', 'Panama', 'Turkey',\n",
       "       'Indonesia', 'Puerto', 'Finland', 'Nigeria', 'Venezuela', 'Kenya',\n",
       "       'Malta', 'Peru', 'Thailand', 'Lebanon'], dtype=object)"
      ]
     },
     "execution_count": 443,
     "metadata": {},
     "output_type": "execute_result"
    }
   ],
   "source": [
    "countries[0].unique()"
   ]
  },
  {
   "cell_type": "code",
   "execution_count": 444,
   "metadata": {},
   "outputs": [
    {
     "data": {
      "text/html": [
       "<div>\n",
       "<style scoped>\n",
       "    .dataframe tbody tr th:only-of-type {\n",
       "        vertical-align: middle;\n",
       "    }\n",
       "\n",
       "    .dataframe tbody tr th {\n",
       "        vertical-align: top;\n",
       "    }\n",
       "\n",
       "    .dataframe thead th {\n",
       "        text-align: right;\n",
       "    }\n",
       "</style>\n",
       "<table border=\"1\" class=\"dataframe\">\n",
       "  <thead>\n",
       "    <tr style=\"text-align: right;\">\n",
       "      <th></th>\n",
       "      <th>duration</th>\n",
       "      <th>language</th>\n",
       "      <th>avg_vote</th>\n",
       "      <th>votes</th>\n",
       "      <th>budget</th>\n",
       "      <th>usa_gross_income</th>\n",
       "      <th>worlwide_gross_income</th>\n",
       "      <th>reviews_from_users</th>\n",
       "      <th>reviews_from_critics</th>\n",
       "      <th>Horror</th>\n",
       "      <th>Thriller</th>\n",
       "      <th>Family</th>\n",
       "      <th>Animation</th>\n",
       "      <th>Crime</th>\n",
       "      <th>Biography</th>\n",
       "      <th>Sci-Fi</th>\n",
       "      <th>Fantasy</th>\n",
       "      <th>Drama</th>\n",
       "      <th>Adventure</th>\n",
       "      <th>Western</th>\n",
       "      <th>War</th>\n",
       "      <th>Sport</th>\n",
       "      <th>Mystery</th>\n",
       "      <th>Romance</th>\n",
       "      <th>Action</th>\n",
       "      <th>History</th>\n",
       "      <th>Film-Noir</th>\n",
       "      <th>Comedy</th>\n",
       "      <th>Musical</th>\n",
       "      <th>USA</th>\n",
       "      <th>France</th>\n",
       "      <th>Japan</th>\n",
       "      <th>UK</th>\n",
       "      <th>Italy</th>\n",
       "      <th>Australia</th>\n",
       "      <th>Mexico</th>\n",
       "      <th>Canada</th>\n",
       "      <th>Spain</th>\n",
       "      <th>Germany</th>\n",
       "      <th>Russia</th>\n",
       "    </tr>\n",
       "    <tr>\n",
       "      <th>title</th>\n",
       "      <th></th>\n",
       "      <th></th>\n",
       "      <th></th>\n",
       "      <th></th>\n",
       "      <th></th>\n",
       "      <th></th>\n",
       "      <th></th>\n",
       "      <th></th>\n",
       "      <th></th>\n",
       "      <th></th>\n",
       "      <th></th>\n",
       "      <th></th>\n",
       "      <th></th>\n",
       "      <th></th>\n",
       "      <th></th>\n",
       "      <th></th>\n",
       "      <th></th>\n",
       "      <th></th>\n",
       "      <th></th>\n",
       "      <th></th>\n",
       "      <th></th>\n",
       "      <th></th>\n",
       "      <th></th>\n",
       "      <th></th>\n",
       "      <th></th>\n",
       "      <th></th>\n",
       "      <th></th>\n",
       "      <th></th>\n",
       "      <th></th>\n",
       "      <th></th>\n",
       "      <th></th>\n",
       "      <th></th>\n",
       "      <th></th>\n",
       "      <th></th>\n",
       "      <th></th>\n",
       "      <th></th>\n",
       "      <th></th>\n",
       "      <th></th>\n",
       "      <th></th>\n",
       "      <th></th>\n",
       "    </tr>\n",
       "  </thead>\n",
       "  <tbody>\n",
       "    <tr>\n",
       "      <th>Il gabinetto del dottor Caligari</th>\n",
       "      <td>76</td>\n",
       "      <td>German</td>\n",
       "      <td>8.1</td>\n",
       "      <td>55601</td>\n",
       "      <td>18000</td>\n",
       "      <td>8811</td>\n",
       "      <td>8811</td>\n",
       "      <td>237.0</td>\n",
       "      <td>160.0</td>\n",
       "      <td>1</td>\n",
       "      <td>0</td>\n",
       "      <td>0</td>\n",
       "      <td>0</td>\n",
       "      <td>0</td>\n",
       "      <td>0</td>\n",
       "      <td>0</td>\n",
       "      <td>1</td>\n",
       "      <td>0</td>\n",
       "      <td>0</td>\n",
       "      <td>0</td>\n",
       "      <td>0</td>\n",
       "      <td>0</td>\n",
       "      <td>1</td>\n",
       "      <td>0</td>\n",
       "      <td>0</td>\n",
       "      <td>0</td>\n",
       "      <td>0</td>\n",
       "      <td>0</td>\n",
       "      <td>0</td>\n",
       "      <td>0</td>\n",
       "      <td>0</td>\n",
       "      <td>0</td>\n",
       "      <td>0</td>\n",
       "      <td>0</td>\n",
       "      <td>0</td>\n",
       "      <td>0</td>\n",
       "      <td>0</td>\n",
       "      <td>0</td>\n",
       "      <td>1</td>\n",
       "      <td>0</td>\n",
       "    </tr>\n",
       "    <tr>\n",
       "      <th>I quattro cavalieri dell'Apocalisse</th>\n",
       "      <td>150</td>\n",
       "      <td>None</td>\n",
       "      <td>7.2</td>\n",
       "      <td>3058</td>\n",
       "      <td>800000</td>\n",
       "      <td>9183673</td>\n",
       "      <td>9183673</td>\n",
       "      <td>45.0</td>\n",
       "      <td>16.0</td>\n",
       "      <td>0</td>\n",
       "      <td>0</td>\n",
       "      <td>0</td>\n",
       "      <td>0</td>\n",
       "      <td>0</td>\n",
       "      <td>0</td>\n",
       "      <td>0</td>\n",
       "      <td>0</td>\n",
       "      <td>1</td>\n",
       "      <td>0</td>\n",
       "      <td>0</td>\n",
       "      <td>1</td>\n",
       "      <td>0</td>\n",
       "      <td>0</td>\n",
       "      <td>1</td>\n",
       "      <td>0</td>\n",
       "      <td>0</td>\n",
       "      <td>0</td>\n",
       "      <td>0</td>\n",
       "      <td>0</td>\n",
       "      <td>1</td>\n",
       "      <td>0</td>\n",
       "      <td>0</td>\n",
       "      <td>0</td>\n",
       "      <td>0</td>\n",
       "      <td>0</td>\n",
       "      <td>0</td>\n",
       "      <td>0</td>\n",
       "      <td>0</td>\n",
       "      <td>0</td>\n",
       "      <td>0</td>\n",
       "    </tr>\n",
       "    <tr>\n",
       "      <th>Luci della città</th>\n",
       "      <td>87</td>\n",
       "      <td>English</td>\n",
       "      <td>8.5</td>\n",
       "      <td>162668</td>\n",
       "      <td>1500000</td>\n",
       "      <td>19181</td>\n",
       "      <td>46008</td>\n",
       "      <td>295.0</td>\n",
       "      <td>122.0</td>\n",
       "      <td>0</td>\n",
       "      <td>0</td>\n",
       "      <td>0</td>\n",
       "      <td>0</td>\n",
       "      <td>0</td>\n",
       "      <td>0</td>\n",
       "      <td>0</td>\n",
       "      <td>0</td>\n",
       "      <td>1</td>\n",
       "      <td>0</td>\n",
       "      <td>0</td>\n",
       "      <td>0</td>\n",
       "      <td>0</td>\n",
       "      <td>0</td>\n",
       "      <td>1</td>\n",
       "      <td>0</td>\n",
       "      <td>0</td>\n",
       "      <td>0</td>\n",
       "      <td>1</td>\n",
       "      <td>0</td>\n",
       "      <td>1</td>\n",
       "      <td>0</td>\n",
       "      <td>0</td>\n",
       "      <td>0</td>\n",
       "      <td>0</td>\n",
       "      <td>0</td>\n",
       "      <td>0</td>\n",
       "      <td>0</td>\n",
       "      <td>0</td>\n",
       "      <td>0</td>\n",
       "      <td>0</td>\n",
       "    </tr>\n",
       "  </tbody>\n",
       "</table>\n",
       "</div>"
      ],
      "text/plain": [
       "                                     duration language  avg_vote   votes  \\\n",
       "title                                                                      \n",
       "Il gabinetto del dottor Caligari           76   German       8.1   55601   \n",
       "I quattro cavalieri dell'Apocalisse       150     None       7.2    3058   \n",
       "Luci della città                           87  English       8.5  162668   \n",
       "\n",
       "                                       budget usa_gross_income  \\\n",
       "title                                                            \n",
       "Il gabinetto del dottor Caligari        18000             8811   \n",
       "I quattro cavalieri dell'Apocalisse    800000          9183673   \n",
       "Luci della città                      1500000            19181   \n",
       "\n",
       "                                    worlwide_gross_income  reviews_from_users  \\\n",
       "title                                                                           \n",
       "Il gabinetto del dottor Caligari                     8811               237.0   \n",
       "I quattro cavalieri dell'Apocalisse               9183673                45.0   \n",
       "Luci della città                                    46008               295.0   \n",
       "\n",
       "                                     reviews_from_critics  Horror  Thriller  \\\n",
       "title                                                                         \n",
       "Il gabinetto del dottor Caligari                    160.0       1         0   \n",
       "I quattro cavalieri dell'Apocalisse                  16.0       0         0   \n",
       "Luci della città                                    122.0       0         0   \n",
       "\n",
       "                                     Family  Animation  Crime  Biography  \\\n",
       "title                                                                      \n",
       "Il gabinetto del dottor Caligari          0          0      0          0   \n",
       "I quattro cavalieri dell'Apocalisse       0          0      0          0   \n",
       "Luci della città                          0          0      0          0   \n",
       "\n",
       "                                     Sci-Fi  Fantasy  Drama  Adventure  \\\n",
       "title                                                                    \n",
       "Il gabinetto del dottor Caligari          0        1      0          0   \n",
       "I quattro cavalieri dell'Apocalisse       0        0      1          0   \n",
       "Luci della città                          0        0      1          0   \n",
       "\n",
       "                                     Western  War  Sport  Mystery  Romance  \\\n",
       "title                                                                        \n",
       "Il gabinetto del dottor Caligari           0    0      0        1        0   \n",
       "I quattro cavalieri dell'Apocalisse        0    1      0        0        1   \n",
       "Luci della città                           0    0      0        0        1   \n",
       "\n",
       "                                     Action  History  Film-Noir  Comedy  \\\n",
       "title                                                                     \n",
       "Il gabinetto del dottor Caligari          0        0          0       0   \n",
       "I quattro cavalieri dell'Apocalisse       0        0          0       0   \n",
       "Luci della città                          0        0          0       1   \n",
       "\n",
       "                                     Musical  USA  France  Japan  UK  Italy  \\\n",
       "title                                                                         \n",
       "Il gabinetto del dottor Caligari           0    0       0      0   0      0   \n",
       "I quattro cavalieri dell'Apocalisse        0    1       0      0   0      0   \n",
       "Luci della città                           0    1       0      0   0      0   \n",
       "\n",
       "                                     Australia  Mexico  Canada  Spain  \\\n",
       "title                                                                   \n",
       "Il gabinetto del dottor Caligari             0       0       0      0   \n",
       "I quattro cavalieri dell'Apocalisse          0       0       0      0   \n",
       "Luci della città                             0       0       0      0   \n",
       "\n",
       "                                     Germany  Russia  \n",
       "title                                                 \n",
       "Il gabinetto del dottor Caligari           1       0  \n",
       "I quattro cavalieri dell'Apocalisse        0       0  \n",
       "Luci della città                           0       0  "
      ]
     },
     "execution_count": 444,
     "metadata": {},
     "output_type": "execute_result"
    }
   ],
   "source": [
    "# Specify the countries that will be used\n",
    "# Categorize the data\n",
    "\n",
    "countryList=['USA', 'France', 'Japan', 'UK', 'Italy', 'Australia',\n",
    "       'Mexico', 'Canada', 'Spain', 'Germany',\n",
    "       'Russia']\n",
    "\n",
    "for i in countryList:\n",
    "    movies[i]=((movies.country.str.find(i))>-1)*1\n",
    "\n",
    "movies.drop(labels=['country'], axis=1, inplace=True)   \n",
    "movies.head(3)"
   ]
  },
  {
   "cell_type": "code",
   "execution_count": 445,
   "metadata": {},
   "outputs": [
    {
     "data": {
      "text/html": [
       "<div>\n",
       "<style scoped>\n",
       "    .dataframe tbody tr th:only-of-type {\n",
       "        vertical-align: middle;\n",
       "    }\n",
       "\n",
       "    .dataframe tbody tr th {\n",
       "        vertical-align: top;\n",
       "    }\n",
       "\n",
       "    .dataframe thead th {\n",
       "        text-align: right;\n",
       "    }\n",
       "</style>\n",
       "<table border=\"1\" class=\"dataframe\">\n",
       "  <thead>\n",
       "    <tr style=\"text-align: right;\">\n",
       "      <th></th>\n",
       "      <th>duration</th>\n",
       "      <th>avg_vote</th>\n",
       "      <th>votes</th>\n",
       "      <th>budget</th>\n",
       "      <th>usa_gross_income</th>\n",
       "      <th>worlwide_gross_income</th>\n",
       "      <th>reviews_from_users</th>\n",
       "      <th>reviews_from_critics</th>\n",
       "      <th>Horror</th>\n",
       "      <th>Thriller</th>\n",
       "      <th>Family</th>\n",
       "      <th>Animation</th>\n",
       "      <th>Crime</th>\n",
       "      <th>Biography</th>\n",
       "      <th>Sci-Fi</th>\n",
       "      <th>Fantasy</th>\n",
       "      <th>Drama</th>\n",
       "      <th>Adventure</th>\n",
       "      <th>Western</th>\n",
       "      <th>War</th>\n",
       "      <th>Sport</th>\n",
       "      <th>Mystery</th>\n",
       "      <th>Romance</th>\n",
       "      <th>Action</th>\n",
       "      <th>History</th>\n",
       "      <th>Film-Noir</th>\n",
       "      <th>Comedy</th>\n",
       "      <th>Musical</th>\n",
       "      <th>USA</th>\n",
       "      <th>France</th>\n",
       "      <th>Japan</th>\n",
       "      <th>UK</th>\n",
       "      <th>Italy</th>\n",
       "      <th>Australia</th>\n",
       "      <th>Mexico</th>\n",
       "      <th>Canada</th>\n",
       "      <th>Spain</th>\n",
       "      <th>Germany</th>\n",
       "      <th>Russia</th>\n",
       "      <th>English</th>\n",
       "      <th>Spanish</th>\n",
       "      <th>French</th>\n",
       "      <th>German</th>\n",
       "      <th>Italian</th>\n",
       "      <th>Russian</th>\n",
       "      <th>Japanese</th>\n",
       "    </tr>\n",
       "    <tr>\n",
       "      <th>title</th>\n",
       "      <th></th>\n",
       "      <th></th>\n",
       "      <th></th>\n",
       "      <th></th>\n",
       "      <th></th>\n",
       "      <th></th>\n",
       "      <th></th>\n",
       "      <th></th>\n",
       "      <th></th>\n",
       "      <th></th>\n",
       "      <th></th>\n",
       "      <th></th>\n",
       "      <th></th>\n",
       "      <th></th>\n",
       "      <th></th>\n",
       "      <th></th>\n",
       "      <th></th>\n",
       "      <th></th>\n",
       "      <th></th>\n",
       "      <th></th>\n",
       "      <th></th>\n",
       "      <th></th>\n",
       "      <th></th>\n",
       "      <th></th>\n",
       "      <th></th>\n",
       "      <th></th>\n",
       "      <th></th>\n",
       "      <th></th>\n",
       "      <th></th>\n",
       "      <th></th>\n",
       "      <th></th>\n",
       "      <th></th>\n",
       "      <th></th>\n",
       "      <th></th>\n",
       "      <th></th>\n",
       "      <th></th>\n",
       "      <th></th>\n",
       "      <th></th>\n",
       "      <th></th>\n",
       "      <th></th>\n",
       "      <th></th>\n",
       "      <th></th>\n",
       "      <th></th>\n",
       "      <th></th>\n",
       "      <th></th>\n",
       "      <th></th>\n",
       "    </tr>\n",
       "  </thead>\n",
       "  <tbody>\n",
       "    <tr>\n",
       "      <th>Il gabinetto del dottor Caligari</th>\n",
       "      <td>76</td>\n",
       "      <td>8.1</td>\n",
       "      <td>55601</td>\n",
       "      <td>18000</td>\n",
       "      <td>8811</td>\n",
       "      <td>8811</td>\n",
       "      <td>237.0</td>\n",
       "      <td>160.0</td>\n",
       "      <td>1</td>\n",
       "      <td>0</td>\n",
       "      <td>0</td>\n",
       "      <td>0</td>\n",
       "      <td>0</td>\n",
       "      <td>0</td>\n",
       "      <td>0</td>\n",
       "      <td>1</td>\n",
       "      <td>0</td>\n",
       "      <td>0</td>\n",
       "      <td>0</td>\n",
       "      <td>0</td>\n",
       "      <td>0</td>\n",
       "      <td>1</td>\n",
       "      <td>0</td>\n",
       "      <td>0</td>\n",
       "      <td>0</td>\n",
       "      <td>0</td>\n",
       "      <td>0</td>\n",
       "      <td>0</td>\n",
       "      <td>0</td>\n",
       "      <td>0</td>\n",
       "      <td>0</td>\n",
       "      <td>0</td>\n",
       "      <td>0</td>\n",
       "      <td>0</td>\n",
       "      <td>0</td>\n",
       "      <td>0</td>\n",
       "      <td>0</td>\n",
       "      <td>1</td>\n",
       "      <td>0</td>\n",
       "      <td>0</td>\n",
       "      <td>0</td>\n",
       "      <td>0</td>\n",
       "      <td>1</td>\n",
       "      <td>0</td>\n",
       "      <td>0</td>\n",
       "      <td>0</td>\n",
       "    </tr>\n",
       "    <tr>\n",
       "      <th>I quattro cavalieri dell'Apocalisse</th>\n",
       "      <td>150</td>\n",
       "      <td>7.2</td>\n",
       "      <td>3058</td>\n",
       "      <td>800000</td>\n",
       "      <td>9183673</td>\n",
       "      <td>9183673</td>\n",
       "      <td>45.0</td>\n",
       "      <td>16.0</td>\n",
       "      <td>0</td>\n",
       "      <td>0</td>\n",
       "      <td>0</td>\n",
       "      <td>0</td>\n",
       "      <td>0</td>\n",
       "      <td>0</td>\n",
       "      <td>0</td>\n",
       "      <td>0</td>\n",
       "      <td>1</td>\n",
       "      <td>0</td>\n",
       "      <td>0</td>\n",
       "      <td>1</td>\n",
       "      <td>0</td>\n",
       "      <td>0</td>\n",
       "      <td>1</td>\n",
       "      <td>0</td>\n",
       "      <td>0</td>\n",
       "      <td>0</td>\n",
       "      <td>0</td>\n",
       "      <td>0</td>\n",
       "      <td>1</td>\n",
       "      <td>0</td>\n",
       "      <td>0</td>\n",
       "      <td>0</td>\n",
       "      <td>0</td>\n",
       "      <td>0</td>\n",
       "      <td>0</td>\n",
       "      <td>0</td>\n",
       "      <td>0</td>\n",
       "      <td>0</td>\n",
       "      <td>0</td>\n",
       "      <td>0</td>\n",
       "      <td>0</td>\n",
       "      <td>0</td>\n",
       "      <td>0</td>\n",
       "      <td>0</td>\n",
       "      <td>0</td>\n",
       "      <td>0</td>\n",
       "    </tr>\n",
       "    <tr>\n",
       "      <th>Luci della città</th>\n",
       "      <td>87</td>\n",
       "      <td>8.5</td>\n",
       "      <td>162668</td>\n",
       "      <td>1500000</td>\n",
       "      <td>19181</td>\n",
       "      <td>46008</td>\n",
       "      <td>295.0</td>\n",
       "      <td>122.0</td>\n",
       "      <td>0</td>\n",
       "      <td>0</td>\n",
       "      <td>0</td>\n",
       "      <td>0</td>\n",
       "      <td>0</td>\n",
       "      <td>0</td>\n",
       "      <td>0</td>\n",
       "      <td>0</td>\n",
       "      <td>1</td>\n",
       "      <td>0</td>\n",
       "      <td>0</td>\n",
       "      <td>0</td>\n",
       "      <td>0</td>\n",
       "      <td>0</td>\n",
       "      <td>1</td>\n",
       "      <td>0</td>\n",
       "      <td>0</td>\n",
       "      <td>0</td>\n",
       "      <td>1</td>\n",
       "      <td>0</td>\n",
       "      <td>1</td>\n",
       "      <td>0</td>\n",
       "      <td>0</td>\n",
       "      <td>0</td>\n",
       "      <td>0</td>\n",
       "      <td>0</td>\n",
       "      <td>0</td>\n",
       "      <td>0</td>\n",
       "      <td>0</td>\n",
       "      <td>0</td>\n",
       "      <td>0</td>\n",
       "      <td>1</td>\n",
       "      <td>0</td>\n",
       "      <td>0</td>\n",
       "      <td>0</td>\n",
       "      <td>0</td>\n",
       "      <td>0</td>\n",
       "      <td>0</td>\n",
       "    </tr>\n",
       "  </tbody>\n",
       "</table>\n",
       "</div>"
      ],
      "text/plain": [
       "                                     duration  avg_vote   votes    budget  \\\n",
       "title                                                                       \n",
       "Il gabinetto del dottor Caligari           76       8.1   55601     18000   \n",
       "I quattro cavalieri dell'Apocalisse       150       7.2    3058    800000   \n",
       "Luci della città                           87       8.5  162668   1500000   \n",
       "\n",
       "                                    usa_gross_income worlwide_gross_income  \\\n",
       "title                                                                        \n",
       "Il gabinetto del dottor Caligari                8811                  8811   \n",
       "I quattro cavalieri dell'Apocalisse          9183673               9183673   \n",
       "Luci della città                               19181                 46008   \n",
       "\n",
       "                                     reviews_from_users  reviews_from_critics  \\\n",
       "title                                                                           \n",
       "Il gabinetto del dottor Caligari                  237.0                 160.0   \n",
       "I quattro cavalieri dell'Apocalisse                45.0                  16.0   \n",
       "Luci della città                                  295.0                 122.0   \n",
       "\n",
       "                                     Horror  Thriller  Family  Animation  \\\n",
       "title                                                                      \n",
       "Il gabinetto del dottor Caligari          1         0       0          0   \n",
       "I quattro cavalieri dell'Apocalisse       0         0       0          0   \n",
       "Luci della città                          0         0       0          0   \n",
       "\n",
       "                                     Crime  Biography  Sci-Fi  Fantasy  Drama  \\\n",
       "title                                                                           \n",
       "Il gabinetto del dottor Caligari         0          0       0        1      0   \n",
       "I quattro cavalieri dell'Apocalisse      0          0       0        0      1   \n",
       "Luci della città                         0          0       0        0      1   \n",
       "\n",
       "                                     Adventure  Western  War  Sport  Mystery  \\\n",
       "title                                                                          \n",
       "Il gabinetto del dottor Caligari             0        0    0      0        1   \n",
       "I quattro cavalieri dell'Apocalisse          0        0    1      0        0   \n",
       "Luci della città                             0        0    0      0        0   \n",
       "\n",
       "                                     Romance  Action  History  Film-Noir  \\\n",
       "title                                                                      \n",
       "Il gabinetto del dottor Caligari           0       0        0          0   \n",
       "I quattro cavalieri dell'Apocalisse        1       0        0          0   \n",
       "Luci della città                           1       0        0          0   \n",
       "\n",
       "                                     Comedy  Musical  USA  France  Japan  UK  \\\n",
       "title                                                                          \n",
       "Il gabinetto del dottor Caligari          0        0    0       0      0   0   \n",
       "I quattro cavalieri dell'Apocalisse       0        0    1       0      0   0   \n",
       "Luci della città                          1        0    1       0      0   0   \n",
       "\n",
       "                                     Italy  Australia  Mexico  Canada  Spain  \\\n",
       "title                                                                          \n",
       "Il gabinetto del dottor Caligari         0          0       0       0      0   \n",
       "I quattro cavalieri dell'Apocalisse      0          0       0       0      0   \n",
       "Luci della città                         0          0       0       0      0   \n",
       "\n",
       "                                     Germany  Russia  English  Spanish  \\\n",
       "title                                                                    \n",
       "Il gabinetto del dottor Caligari           1       0        0        0   \n",
       "I quattro cavalieri dell'Apocalisse        0       0        0        0   \n",
       "Luci della città                           0       0        1        0   \n",
       "\n",
       "                                     French  German  Italian  Russian  \\\n",
       "title                                                                   \n",
       "Il gabinetto del dottor Caligari          0       1        0        0   \n",
       "I quattro cavalieri dell'Apocalisse       0       0        0        0   \n",
       "Luci della città                          0       0        0        0   \n",
       "\n",
       "                                     Japanese  \n",
       "title                                          \n",
       "Il gabinetto del dottor Caligari            0  \n",
       "I quattro cavalieri dell'Apocalisse         0  \n",
       "Luci della città                            0  "
      ]
     },
     "execution_count": 445,
     "metadata": {},
     "output_type": "execute_result"
    }
   ],
   "source": [
    "# Specify the languages that will be used\n",
    "# Categorize the data\n",
    "\n",
    "languageList=['English','Spanish','French','German','Italian','Russian', 'Japanese']\n",
    "\n",
    "for i in languageList:\n",
    "    movies[i]=((movies.language.str.find(i))>-1)*1\n",
    "\n",
    "movies.drop(labels=['language'], axis=1, inplace=True)   \n",
    "movies.head(3)"
   ]
  },
  {
   "cell_type": "code",
   "execution_count": 446,
   "metadata": {},
   "outputs": [
    {
     "data": {
      "text/plain": [
       "(7250, 46)"
      ]
     },
     "execution_count": 446,
     "metadata": {},
     "output_type": "execute_result"
    }
   ],
   "source": [
    "movies.shape"
   ]
  },
  {
   "cell_type": "code",
   "execution_count": 447,
   "metadata": {},
   "outputs": [
    {
     "data": {
      "text/html": [
       "<div>\n",
       "<style scoped>\n",
       "    .dataframe tbody tr th:only-of-type {\n",
       "        vertical-align: middle;\n",
       "    }\n",
       "\n",
       "    .dataframe tbody tr th {\n",
       "        vertical-align: top;\n",
       "    }\n",
       "\n",
       "    .dataframe thead th {\n",
       "        text-align: right;\n",
       "    }\n",
       "</style>\n",
       "<table border=\"1\" class=\"dataframe\">\n",
       "  <thead>\n",
       "    <tr style=\"text-align: right;\">\n",
       "      <th></th>\n",
       "      <th>duration</th>\n",
       "      <th>avg_vote</th>\n",
       "      <th>votes</th>\n",
       "      <th>budget</th>\n",
       "      <th>usa_gross_income</th>\n",
       "      <th>worlwide_gross_income</th>\n",
       "      <th>reviews_from_users</th>\n",
       "      <th>reviews_from_critics</th>\n",
       "      <th>Horror</th>\n",
       "      <th>Thriller</th>\n",
       "      <th>Family</th>\n",
       "      <th>Animation</th>\n",
       "      <th>Crime</th>\n",
       "      <th>Biography</th>\n",
       "      <th>Sci-Fi</th>\n",
       "      <th>Fantasy</th>\n",
       "      <th>Drama</th>\n",
       "      <th>Adventure</th>\n",
       "      <th>Western</th>\n",
       "      <th>War</th>\n",
       "      <th>Sport</th>\n",
       "      <th>Mystery</th>\n",
       "      <th>Romance</th>\n",
       "      <th>Action</th>\n",
       "      <th>History</th>\n",
       "      <th>Film-Noir</th>\n",
       "      <th>Comedy</th>\n",
       "      <th>Musical</th>\n",
       "      <th>USA</th>\n",
       "      <th>France</th>\n",
       "      <th>Japan</th>\n",
       "      <th>UK</th>\n",
       "      <th>Italy</th>\n",
       "      <th>Australia</th>\n",
       "      <th>Mexico</th>\n",
       "      <th>Canada</th>\n",
       "      <th>Spain</th>\n",
       "      <th>Germany</th>\n",
       "      <th>Russia</th>\n",
       "      <th>English</th>\n",
       "      <th>Spanish</th>\n",
       "      <th>French</th>\n",
       "      <th>German</th>\n",
       "      <th>Italian</th>\n",
       "      <th>Russian</th>\n",
       "      <th>Japanese</th>\n",
       "      <th>vote_category</th>\n",
       "    </tr>\n",
       "    <tr>\n",
       "      <th>title</th>\n",
       "      <th></th>\n",
       "      <th></th>\n",
       "      <th></th>\n",
       "      <th></th>\n",
       "      <th></th>\n",
       "      <th></th>\n",
       "      <th></th>\n",
       "      <th></th>\n",
       "      <th></th>\n",
       "      <th></th>\n",
       "      <th></th>\n",
       "      <th></th>\n",
       "      <th></th>\n",
       "      <th></th>\n",
       "      <th></th>\n",
       "      <th></th>\n",
       "      <th></th>\n",
       "      <th></th>\n",
       "      <th></th>\n",
       "      <th></th>\n",
       "      <th></th>\n",
       "      <th></th>\n",
       "      <th></th>\n",
       "      <th></th>\n",
       "      <th></th>\n",
       "      <th></th>\n",
       "      <th></th>\n",
       "      <th></th>\n",
       "      <th></th>\n",
       "      <th></th>\n",
       "      <th></th>\n",
       "      <th></th>\n",
       "      <th></th>\n",
       "      <th></th>\n",
       "      <th></th>\n",
       "      <th></th>\n",
       "      <th></th>\n",
       "      <th></th>\n",
       "      <th></th>\n",
       "      <th></th>\n",
       "      <th></th>\n",
       "      <th></th>\n",
       "      <th></th>\n",
       "      <th></th>\n",
       "      <th></th>\n",
       "      <th></th>\n",
       "      <th></th>\n",
       "    </tr>\n",
       "  </thead>\n",
       "  <tbody>\n",
       "    <tr>\n",
       "      <th>Il gabinetto del dottor Caligari</th>\n",
       "      <td>76</td>\n",
       "      <td>8.1</td>\n",
       "      <td>55601</td>\n",
       "      <td>18000</td>\n",
       "      <td>8811</td>\n",
       "      <td>8811</td>\n",
       "      <td>237.0</td>\n",
       "      <td>160.0</td>\n",
       "      <td>1</td>\n",
       "      <td>0</td>\n",
       "      <td>0</td>\n",
       "      <td>0</td>\n",
       "      <td>0</td>\n",
       "      <td>0</td>\n",
       "      <td>0</td>\n",
       "      <td>1</td>\n",
       "      <td>0</td>\n",
       "      <td>0</td>\n",
       "      <td>0</td>\n",
       "      <td>0</td>\n",
       "      <td>0</td>\n",
       "      <td>1</td>\n",
       "      <td>0</td>\n",
       "      <td>0</td>\n",
       "      <td>0</td>\n",
       "      <td>0</td>\n",
       "      <td>0</td>\n",
       "      <td>0</td>\n",
       "      <td>0</td>\n",
       "      <td>0</td>\n",
       "      <td>0</td>\n",
       "      <td>0</td>\n",
       "      <td>0</td>\n",
       "      <td>0</td>\n",
       "      <td>0</td>\n",
       "      <td>0</td>\n",
       "      <td>0</td>\n",
       "      <td>1</td>\n",
       "      <td>0</td>\n",
       "      <td>0</td>\n",
       "      <td>0</td>\n",
       "      <td>0</td>\n",
       "      <td>1</td>\n",
       "      <td>0</td>\n",
       "      <td>0</td>\n",
       "      <td>0</td>\n",
       "      <td>high_rated</td>\n",
       "    </tr>\n",
       "    <tr>\n",
       "      <th>I quattro cavalieri dell'Apocalisse</th>\n",
       "      <td>150</td>\n",
       "      <td>7.2</td>\n",
       "      <td>3058</td>\n",
       "      <td>800000</td>\n",
       "      <td>9183673</td>\n",
       "      <td>9183673</td>\n",
       "      <td>45.0</td>\n",
       "      <td>16.0</td>\n",
       "      <td>0</td>\n",
       "      <td>0</td>\n",
       "      <td>0</td>\n",
       "      <td>0</td>\n",
       "      <td>0</td>\n",
       "      <td>0</td>\n",
       "      <td>0</td>\n",
       "      <td>0</td>\n",
       "      <td>1</td>\n",
       "      <td>0</td>\n",
       "      <td>0</td>\n",
       "      <td>1</td>\n",
       "      <td>0</td>\n",
       "      <td>0</td>\n",
       "      <td>1</td>\n",
       "      <td>0</td>\n",
       "      <td>0</td>\n",
       "      <td>0</td>\n",
       "      <td>0</td>\n",
       "      <td>0</td>\n",
       "      <td>1</td>\n",
       "      <td>0</td>\n",
       "      <td>0</td>\n",
       "      <td>0</td>\n",
       "      <td>0</td>\n",
       "      <td>0</td>\n",
       "      <td>0</td>\n",
       "      <td>0</td>\n",
       "      <td>0</td>\n",
       "      <td>0</td>\n",
       "      <td>0</td>\n",
       "      <td>0</td>\n",
       "      <td>0</td>\n",
       "      <td>0</td>\n",
       "      <td>0</td>\n",
       "      <td>0</td>\n",
       "      <td>0</td>\n",
       "      <td>0</td>\n",
       "      <td>high_rated</td>\n",
       "    </tr>\n",
       "    <tr>\n",
       "      <th>Luci della città</th>\n",
       "      <td>87</td>\n",
       "      <td>8.5</td>\n",
       "      <td>162668</td>\n",
       "      <td>1500000</td>\n",
       "      <td>19181</td>\n",
       "      <td>46008</td>\n",
       "      <td>295.0</td>\n",
       "      <td>122.0</td>\n",
       "      <td>0</td>\n",
       "      <td>0</td>\n",
       "      <td>0</td>\n",
       "      <td>0</td>\n",
       "      <td>0</td>\n",
       "      <td>0</td>\n",
       "      <td>0</td>\n",
       "      <td>0</td>\n",
       "      <td>1</td>\n",
       "      <td>0</td>\n",
       "      <td>0</td>\n",
       "      <td>0</td>\n",
       "      <td>0</td>\n",
       "      <td>0</td>\n",
       "      <td>1</td>\n",
       "      <td>0</td>\n",
       "      <td>0</td>\n",
       "      <td>0</td>\n",
       "      <td>1</td>\n",
       "      <td>0</td>\n",
       "      <td>1</td>\n",
       "      <td>0</td>\n",
       "      <td>0</td>\n",
       "      <td>0</td>\n",
       "      <td>0</td>\n",
       "      <td>0</td>\n",
       "      <td>0</td>\n",
       "      <td>0</td>\n",
       "      <td>0</td>\n",
       "      <td>0</td>\n",
       "      <td>0</td>\n",
       "      <td>1</td>\n",
       "      <td>0</td>\n",
       "      <td>0</td>\n",
       "      <td>0</td>\n",
       "      <td>0</td>\n",
       "      <td>0</td>\n",
       "      <td>0</td>\n",
       "      <td>high_rated</td>\n",
       "    </tr>\n",
       "  </tbody>\n",
       "</table>\n",
       "</div>"
      ],
      "text/plain": [
       "                                     duration  avg_vote   votes    budget  \\\n",
       "title                                                                       \n",
       "Il gabinetto del dottor Caligari           76       8.1   55601     18000   \n",
       "I quattro cavalieri dell'Apocalisse       150       7.2    3058    800000   \n",
       "Luci della città                           87       8.5  162668   1500000   \n",
       "\n",
       "                                    usa_gross_income worlwide_gross_income  \\\n",
       "title                                                                        \n",
       "Il gabinetto del dottor Caligari                8811                  8811   \n",
       "I quattro cavalieri dell'Apocalisse          9183673               9183673   \n",
       "Luci della città                               19181                 46008   \n",
       "\n",
       "                                     reviews_from_users  reviews_from_critics  \\\n",
       "title                                                                           \n",
       "Il gabinetto del dottor Caligari                  237.0                 160.0   \n",
       "I quattro cavalieri dell'Apocalisse                45.0                  16.0   \n",
       "Luci della città                                  295.0                 122.0   \n",
       "\n",
       "                                     Horror  Thriller  Family  Animation  \\\n",
       "title                                                                      \n",
       "Il gabinetto del dottor Caligari          1         0       0          0   \n",
       "I quattro cavalieri dell'Apocalisse       0         0       0          0   \n",
       "Luci della città                          0         0       0          0   \n",
       "\n",
       "                                     Crime  Biography  Sci-Fi  Fantasy  Drama  \\\n",
       "title                                                                           \n",
       "Il gabinetto del dottor Caligari         0          0       0        1      0   \n",
       "I quattro cavalieri dell'Apocalisse      0          0       0        0      1   \n",
       "Luci della città                         0          0       0        0      1   \n",
       "\n",
       "                                     Adventure  Western  War  Sport  Mystery  \\\n",
       "title                                                                          \n",
       "Il gabinetto del dottor Caligari             0        0    0      0        1   \n",
       "I quattro cavalieri dell'Apocalisse          0        0    1      0        0   \n",
       "Luci della città                             0        0    0      0        0   \n",
       "\n",
       "                                     Romance  Action  History  Film-Noir  \\\n",
       "title                                                                      \n",
       "Il gabinetto del dottor Caligari           0       0        0          0   \n",
       "I quattro cavalieri dell'Apocalisse        1       0        0          0   \n",
       "Luci della città                           1       0        0          0   \n",
       "\n",
       "                                     Comedy  Musical  USA  France  Japan  UK  \\\n",
       "title                                                                          \n",
       "Il gabinetto del dottor Caligari          0        0    0       0      0   0   \n",
       "I quattro cavalieri dell'Apocalisse       0        0    1       0      0   0   \n",
       "Luci della città                          1        0    1       0      0   0   \n",
       "\n",
       "                                     Italy  Australia  Mexico  Canada  Spain  \\\n",
       "title                                                                          \n",
       "Il gabinetto del dottor Caligari         0          0       0       0      0   \n",
       "I quattro cavalieri dell'Apocalisse      0          0       0       0      0   \n",
       "Luci della città                         0          0       0       0      0   \n",
       "\n",
       "                                     Germany  Russia  English  Spanish  \\\n",
       "title                                                                    \n",
       "Il gabinetto del dottor Caligari           1       0        0        0   \n",
       "I quattro cavalieri dell'Apocalisse        0       0        0        0   \n",
       "Luci della città                           0       0        1        0   \n",
       "\n",
       "                                     French  German  Italian  Russian  \\\n",
       "title                                                                   \n",
       "Il gabinetto del dottor Caligari          0       1        0        0   \n",
       "I quattro cavalieri dell'Apocalisse       0       0        0        0   \n",
       "Luci della città                          0       0        0        0   \n",
       "\n",
       "                                     Japanese vote_category  \n",
       "title                                                        \n",
       "Il gabinetto del dottor Caligari            0    high_rated  \n",
       "I quattro cavalieri dell'Apocalisse         0    high_rated  \n",
       "Luci della città                            0    high_rated  "
      ]
     },
     "execution_count": 447,
     "metadata": {},
     "output_type": "execute_result"
    }
   ],
   "source": [
    "# Categorize the average vote value as: high_rated, avg_rated, low_rated\n",
    "\n",
    "movies['vote_category']='avg_rated'\n",
    "movies.loc[movies.avg_vote>=7,'vote_category']='high_rated'\n",
    "movies.loc[movies.avg_vote<=5,'vote_category']='low_rated'\n",
    "\n",
    "movies.head(3)"
   ]
  },
  {
   "cell_type": "code",
   "execution_count": 448,
   "metadata": {},
   "outputs": [
    {
     "data": {
      "text/html": [
       "<div>\n",
       "<style scoped>\n",
       "    .dataframe tbody tr th:only-of-type {\n",
       "        vertical-align: middle;\n",
       "    }\n",
       "\n",
       "    .dataframe tbody tr th {\n",
       "        vertical-align: top;\n",
       "    }\n",
       "\n",
       "    .dataframe thead th {\n",
       "        text-align: right;\n",
       "    }\n",
       "</style>\n",
       "<table border=\"1\" class=\"dataframe\">\n",
       "  <thead>\n",
       "    <tr style=\"text-align: right;\">\n",
       "      <th></th>\n",
       "      <th>duration</th>\n",
       "      <th>avg_vote</th>\n",
       "      <th>votes</th>\n",
       "      <th>budget</th>\n",
       "      <th>usa_gross_income</th>\n",
       "      <th>worlwide_gross_income</th>\n",
       "      <th>reviews_from_users</th>\n",
       "      <th>reviews_from_critics</th>\n",
       "      <th>Horror</th>\n",
       "      <th>Thriller</th>\n",
       "      <th>Family</th>\n",
       "      <th>Animation</th>\n",
       "      <th>Crime</th>\n",
       "      <th>Biography</th>\n",
       "      <th>Sci-Fi</th>\n",
       "      <th>Fantasy</th>\n",
       "      <th>Drama</th>\n",
       "      <th>Adventure</th>\n",
       "      <th>Western</th>\n",
       "      <th>War</th>\n",
       "      <th>Sport</th>\n",
       "      <th>Mystery</th>\n",
       "      <th>Romance</th>\n",
       "      <th>Action</th>\n",
       "      <th>History</th>\n",
       "      <th>Film-Noir</th>\n",
       "      <th>Comedy</th>\n",
       "      <th>Musical</th>\n",
       "      <th>USA</th>\n",
       "      <th>France</th>\n",
       "      <th>Japan</th>\n",
       "      <th>UK</th>\n",
       "      <th>Italy</th>\n",
       "      <th>Australia</th>\n",
       "      <th>Mexico</th>\n",
       "      <th>Canada</th>\n",
       "      <th>Spain</th>\n",
       "      <th>Germany</th>\n",
       "      <th>Russia</th>\n",
       "      <th>English</th>\n",
       "      <th>Spanish</th>\n",
       "      <th>French</th>\n",
       "      <th>German</th>\n",
       "      <th>Italian</th>\n",
       "      <th>Russian</th>\n",
       "      <th>Japanese</th>\n",
       "    </tr>\n",
       "    <tr>\n",
       "      <th>title</th>\n",
       "      <th></th>\n",
       "      <th></th>\n",
       "      <th></th>\n",
       "      <th></th>\n",
       "      <th></th>\n",
       "      <th></th>\n",
       "      <th></th>\n",
       "      <th></th>\n",
       "      <th></th>\n",
       "      <th></th>\n",
       "      <th></th>\n",
       "      <th></th>\n",
       "      <th></th>\n",
       "      <th></th>\n",
       "      <th></th>\n",
       "      <th></th>\n",
       "      <th></th>\n",
       "      <th></th>\n",
       "      <th></th>\n",
       "      <th></th>\n",
       "      <th></th>\n",
       "      <th></th>\n",
       "      <th></th>\n",
       "      <th></th>\n",
       "      <th></th>\n",
       "      <th></th>\n",
       "      <th></th>\n",
       "      <th></th>\n",
       "      <th></th>\n",
       "      <th></th>\n",
       "      <th></th>\n",
       "      <th></th>\n",
       "      <th></th>\n",
       "      <th></th>\n",
       "      <th></th>\n",
       "      <th></th>\n",
       "      <th></th>\n",
       "      <th></th>\n",
       "      <th></th>\n",
       "      <th></th>\n",
       "      <th></th>\n",
       "      <th></th>\n",
       "      <th></th>\n",
       "      <th></th>\n",
       "      <th></th>\n",
       "      <th></th>\n",
       "    </tr>\n",
       "  </thead>\n",
       "  <tbody>\n",
       "    <tr>\n",
       "      <th>Il gabinetto del dottor Caligari</th>\n",
       "      <td>76</td>\n",
       "      <td>8.1</td>\n",
       "      <td>55601</td>\n",
       "      <td>18000</td>\n",
       "      <td>8811</td>\n",
       "      <td>8811</td>\n",
       "      <td>237.0</td>\n",
       "      <td>160.0</td>\n",
       "      <td>1</td>\n",
       "      <td>0</td>\n",
       "      <td>0</td>\n",
       "      <td>0</td>\n",
       "      <td>0</td>\n",
       "      <td>0</td>\n",
       "      <td>0</td>\n",
       "      <td>1</td>\n",
       "      <td>0</td>\n",
       "      <td>0</td>\n",
       "      <td>0</td>\n",
       "      <td>0</td>\n",
       "      <td>0</td>\n",
       "      <td>1</td>\n",
       "      <td>0</td>\n",
       "      <td>0</td>\n",
       "      <td>0</td>\n",
       "      <td>0</td>\n",
       "      <td>0</td>\n",
       "      <td>0</td>\n",
       "      <td>0</td>\n",
       "      <td>0</td>\n",
       "      <td>0</td>\n",
       "      <td>0</td>\n",
       "      <td>0</td>\n",
       "      <td>0</td>\n",
       "      <td>0</td>\n",
       "      <td>0</td>\n",
       "      <td>0</td>\n",
       "      <td>1</td>\n",
       "      <td>0</td>\n",
       "      <td>0</td>\n",
       "      <td>0</td>\n",
       "      <td>0</td>\n",
       "      <td>1</td>\n",
       "      <td>0</td>\n",
       "      <td>0</td>\n",
       "      <td>0</td>\n",
       "    </tr>\n",
       "    <tr>\n",
       "      <th>I quattro cavalieri dell'Apocalisse</th>\n",
       "      <td>150</td>\n",
       "      <td>7.2</td>\n",
       "      <td>3058</td>\n",
       "      <td>800000</td>\n",
       "      <td>9183673</td>\n",
       "      <td>9183673</td>\n",
       "      <td>45.0</td>\n",
       "      <td>16.0</td>\n",
       "      <td>0</td>\n",
       "      <td>0</td>\n",
       "      <td>0</td>\n",
       "      <td>0</td>\n",
       "      <td>0</td>\n",
       "      <td>0</td>\n",
       "      <td>0</td>\n",
       "      <td>0</td>\n",
       "      <td>1</td>\n",
       "      <td>0</td>\n",
       "      <td>0</td>\n",
       "      <td>1</td>\n",
       "      <td>0</td>\n",
       "      <td>0</td>\n",
       "      <td>1</td>\n",
       "      <td>0</td>\n",
       "      <td>0</td>\n",
       "      <td>0</td>\n",
       "      <td>0</td>\n",
       "      <td>0</td>\n",
       "      <td>1</td>\n",
       "      <td>0</td>\n",
       "      <td>0</td>\n",
       "      <td>0</td>\n",
       "      <td>0</td>\n",
       "      <td>0</td>\n",
       "      <td>0</td>\n",
       "      <td>0</td>\n",
       "      <td>0</td>\n",
       "      <td>0</td>\n",
       "      <td>0</td>\n",
       "      <td>0</td>\n",
       "      <td>0</td>\n",
       "      <td>0</td>\n",
       "      <td>0</td>\n",
       "      <td>0</td>\n",
       "      <td>0</td>\n",
       "      <td>0</td>\n",
       "    </tr>\n",
       "  </tbody>\n",
       "</table>\n",
       "</div>"
      ],
      "text/plain": [
       "                                     duration  avg_vote  votes   budget  \\\n",
       "title                                                                     \n",
       "Il gabinetto del dottor Caligari           76       8.1  55601    18000   \n",
       "I quattro cavalieri dell'Apocalisse       150       7.2   3058   800000   \n",
       "\n",
       "                                    usa_gross_income worlwide_gross_income  \\\n",
       "title                                                                        \n",
       "Il gabinetto del dottor Caligari                8811                  8811   \n",
       "I quattro cavalieri dell'Apocalisse          9183673               9183673   \n",
       "\n",
       "                                     reviews_from_users  reviews_from_critics  \\\n",
       "title                                                                           \n",
       "Il gabinetto del dottor Caligari                  237.0                 160.0   \n",
       "I quattro cavalieri dell'Apocalisse                45.0                  16.0   \n",
       "\n",
       "                                     Horror  Thriller  Family  Animation  \\\n",
       "title                                                                      \n",
       "Il gabinetto del dottor Caligari          1         0       0          0   \n",
       "I quattro cavalieri dell'Apocalisse       0         0       0          0   \n",
       "\n",
       "                                     Crime  Biography  Sci-Fi  Fantasy  Drama  \\\n",
       "title                                                                           \n",
       "Il gabinetto del dottor Caligari         0          0       0        1      0   \n",
       "I quattro cavalieri dell'Apocalisse      0          0       0        0      1   \n",
       "\n",
       "                                     Adventure  Western  War  Sport  Mystery  \\\n",
       "title                                                                          \n",
       "Il gabinetto del dottor Caligari             0        0    0      0        1   \n",
       "I quattro cavalieri dell'Apocalisse          0        0    1      0        0   \n",
       "\n",
       "                                     Romance  Action  History  Film-Noir  \\\n",
       "title                                                                      \n",
       "Il gabinetto del dottor Caligari           0       0        0          0   \n",
       "I quattro cavalieri dell'Apocalisse        1       0        0          0   \n",
       "\n",
       "                                     Comedy  Musical  USA  France  Japan  UK  \\\n",
       "title                                                                          \n",
       "Il gabinetto del dottor Caligari          0        0    0       0      0   0   \n",
       "I quattro cavalieri dell'Apocalisse       0        0    1       0      0   0   \n",
       "\n",
       "                                     Italy  Australia  Mexico  Canada  Spain  \\\n",
       "title                                                                          \n",
       "Il gabinetto del dottor Caligari         0          0       0       0      0   \n",
       "I quattro cavalieri dell'Apocalisse      0          0       0       0      0   \n",
       "\n",
       "                                     Germany  Russia  English  Spanish  \\\n",
       "title                                                                    \n",
       "Il gabinetto del dottor Caligari           1       0        0        0   \n",
       "I quattro cavalieri dell'Apocalisse        0       0        0        0   \n",
       "\n",
       "                                     French  German  Italian  Russian  \\\n",
       "title                                                                   \n",
       "Il gabinetto del dottor Caligari          0       1        0        0   \n",
       "I quattro cavalieri dell'Apocalisse       0       0        0        0   \n",
       "\n",
       "                                     Japanese  \n",
       "title                                          \n",
       "Il gabinetto del dottor Caligari            0  \n",
       "I quattro cavalieri dell'Apocalisse         0  "
      ]
     },
     "execution_count": 448,
     "metadata": {},
     "output_type": "execute_result"
    }
   ],
   "source": [
    "# create featured and target sets\n",
    "\n",
    "X_movie, y_movie=movies.iloc[:,:-1], movies['vote_category']\n",
    "X_movie.head(2)"
   ]
  },
  {
   "cell_type": "code",
   "execution_count": 449,
   "metadata": {},
   "outputs": [
    {
     "data": {
      "text/plain": [
       "title\n",
       "Il gabinetto del dottor Caligari       high_rated\n",
       "I quattro cavalieri dell'Apocalisse    high_rated\n",
       "Name: vote_category, dtype: object"
      ]
     },
     "execution_count": 449,
     "metadata": {},
     "output_type": "execute_result"
    }
   ],
   "source": [
    "y_movie.head(2)"
   ]
  },
  {
   "cell_type": "code",
   "execution_count": null,
   "metadata": {},
   "outputs": [],
   "source": []
  },
  {
   "cell_type": "markdown",
   "metadata": {},
   "source": [
    "## KNN- Classification"
   ]
  },
  {
   "cell_type": "code",
   "execution_count": 450,
   "metadata": {},
   "outputs": [],
   "source": [
    "# split to train and test\n",
    "#the order is important\n",
    "#make sure to use X_dummies!!!!!\n",
    "X_train,X_test,y_train,y_test=train_test_split(X_movie, y_movie, random_state=0)"
   ]
  },
  {
   "cell_type": "code",
   "execution_count": 451,
   "metadata": {},
   "outputs": [
    {
     "name": "stdout",
     "output_type": "stream",
     "text": [
      "X_train shape:  (5437, 46)\n",
      "X_test shape:  (1813, 46)\n",
      "y_train shape:  (5437,)\n",
      "y_train shape:  (1813,)\n"
     ]
    }
   ],
   "source": [
    "print(\"X_train shape: \", X_train.shape)\n",
    "print(\"X_test shape: \", X_test.shape)\n",
    "print(\"y_train shape: \", y_train.shape)\n",
    "print(\"y_train shape: \", y_test.shape)"
   ]
  },
  {
   "cell_type": "code",
   "execution_count": 452,
   "metadata": {},
   "outputs": [],
   "source": [
    "#define and fit the model\n",
    "#define the model\n",
    "knn1=KNeighborsClassifier(n_neighbors=1)\n",
    "knn10=KNeighborsClassifier(n_neighbors=10)\n",
    "knn25=KNeighborsClassifier(n_neighbors=25)"
   ]
  },
  {
   "cell_type": "code",
   "execution_count": 453,
   "metadata": {},
   "outputs": [
    {
     "data": {
      "text/plain": [
       "KNeighborsClassifier(n_neighbors=25)"
      ]
     },
     "execution_count": 453,
     "metadata": {},
     "output_type": "execute_result"
    }
   ],
   "source": [
    "#fit using training data\n",
    "knn1.fit(X_train,y_train)\n",
    "knn10.fit(X_train,y_train)\n",
    "knn25.fit(X_train,y_train)"
   ]
  },
  {
   "cell_type": "code",
   "execution_count": 454,
   "metadata": {
    "scrolled": true
   },
   "outputs": [
    {
     "name": "stdout",
     "output_type": "stream",
     "text": [
      "knn1 accuracy on train: 100.00%\n",
      "knn1 accuracy on test: 52.84% \n",
      "\n",
      "knn10 accuracy on train: 66.97%\n",
      "knn10 accuracy on test: 62.55% \n",
      "\n",
      "knn25 accuracy on train: 65.96%\n",
      "knn25 accuracy on test: 64.04% \n",
      "\n"
     ]
    }
   ],
   "source": [
    "print('knn1 accuracy on train: {:.2%}'.format(knn1.score(X_train,y_train)))\n",
    "print('knn1 accuracy on test: {:.2%}'.format(knn1.score(X_test,y_test)),'\\n')\n",
    "\n",
    "print('knn10 accuracy on train: {:.2%}'.format(knn10.score(X_train,y_train)))\n",
    "print('knn10 accuracy on test: {:.2%}'.format(knn10.score(X_test,y_test)),'\\n')\n",
    "\n",
    "print('knn25 accuracy on train: {:.2%}'.format(knn25.score(X_train,y_train)))\n",
    "print('knn25 accuracy on test: {:.2%}'.format(knn25.score(X_test,y_test)),'\\n')"
   ]
  },
  {
   "cell_type": "code",
   "execution_count": 455,
   "metadata": {},
   "outputs": [],
   "source": [
    "#expand output of dataset\n",
    "pd.set_option(\"display.max_columns\", None)"
   ]
  },
  {
   "cell_type": "code",
   "execution_count": 456,
   "metadata": {},
   "outputs": [
    {
     "data": {
      "text/html": [
       "<div>\n",
       "<style scoped>\n",
       "    .dataframe tbody tr th:only-of-type {\n",
       "        vertical-align: middle;\n",
       "    }\n",
       "\n",
       "    .dataframe tbody tr th {\n",
       "        vertical-align: top;\n",
       "    }\n",
       "\n",
       "    .dataframe thead th {\n",
       "        text-align: right;\n",
       "    }\n",
       "</style>\n",
       "<table border=\"1\" class=\"dataframe\">\n",
       "  <thead>\n",
       "    <tr style=\"text-align: right;\">\n",
       "      <th></th>\n",
       "      <th>duration</th>\n",
       "      <th>avg_vote</th>\n",
       "      <th>votes</th>\n",
       "      <th>budget</th>\n",
       "      <th>usa_gross_income</th>\n",
       "      <th>worlwide_gross_income</th>\n",
       "      <th>reviews_from_users</th>\n",
       "      <th>reviews_from_critics</th>\n",
       "      <th>Horror</th>\n",
       "      <th>Thriller</th>\n",
       "      <th>Family</th>\n",
       "      <th>Animation</th>\n",
       "      <th>Crime</th>\n",
       "      <th>Biography</th>\n",
       "      <th>Sci-Fi</th>\n",
       "      <th>Fantasy</th>\n",
       "      <th>Drama</th>\n",
       "      <th>Adventure</th>\n",
       "      <th>Western</th>\n",
       "      <th>War</th>\n",
       "      <th>Sport</th>\n",
       "      <th>Mystery</th>\n",
       "      <th>Romance</th>\n",
       "      <th>Action</th>\n",
       "      <th>History</th>\n",
       "      <th>Film-Noir</th>\n",
       "      <th>Comedy</th>\n",
       "      <th>Musical</th>\n",
       "      <th>USA</th>\n",
       "      <th>France</th>\n",
       "      <th>Japan</th>\n",
       "      <th>UK</th>\n",
       "      <th>Italy</th>\n",
       "      <th>Australia</th>\n",
       "      <th>Mexico</th>\n",
       "      <th>Canada</th>\n",
       "      <th>Spain</th>\n",
       "      <th>Germany</th>\n",
       "      <th>Russia</th>\n",
       "      <th>English</th>\n",
       "      <th>Spanish</th>\n",
       "      <th>French</th>\n",
       "      <th>German</th>\n",
       "      <th>Italian</th>\n",
       "      <th>Russian</th>\n",
       "      <th>Japanese</th>\n",
       "    </tr>\n",
       "    <tr>\n",
       "      <th>title</th>\n",
       "      <th></th>\n",
       "      <th></th>\n",
       "      <th></th>\n",
       "      <th></th>\n",
       "      <th></th>\n",
       "      <th></th>\n",
       "      <th></th>\n",
       "      <th></th>\n",
       "      <th></th>\n",
       "      <th></th>\n",
       "      <th></th>\n",
       "      <th></th>\n",
       "      <th></th>\n",
       "      <th></th>\n",
       "      <th></th>\n",
       "      <th></th>\n",
       "      <th></th>\n",
       "      <th></th>\n",
       "      <th></th>\n",
       "      <th></th>\n",
       "      <th></th>\n",
       "      <th></th>\n",
       "      <th></th>\n",
       "      <th></th>\n",
       "      <th></th>\n",
       "      <th></th>\n",
       "      <th></th>\n",
       "      <th></th>\n",
       "      <th></th>\n",
       "      <th></th>\n",
       "      <th></th>\n",
       "      <th></th>\n",
       "      <th></th>\n",
       "      <th></th>\n",
       "      <th></th>\n",
       "      <th></th>\n",
       "      <th></th>\n",
       "      <th></th>\n",
       "      <th></th>\n",
       "      <th></th>\n",
       "      <th></th>\n",
       "      <th></th>\n",
       "      <th></th>\n",
       "      <th></th>\n",
       "      <th></th>\n",
       "      <th></th>\n",
       "    </tr>\n",
       "  </thead>\n",
       "  <tbody>\n",
       "    <tr>\n",
       "      <th>Dead Awake</th>\n",
       "      <td>99</td>\n",
       "      <td>4.6</td>\n",
       "      <td>2958</td>\n",
       "      <td>24000000</td>\n",
       "      <td>11528</td>\n",
       "      <td>21675</td>\n",
       "      <td>28.0</td>\n",
       "      <td>32.0</td>\n",
       "      <td>1</td>\n",
       "      <td>1</td>\n",
       "      <td>0</td>\n",
       "      <td>0</td>\n",
       "      <td>0</td>\n",
       "      <td>0</td>\n",
       "      <td>0</td>\n",
       "      <td>0</td>\n",
       "      <td>0</td>\n",
       "      <td>0</td>\n",
       "      <td>0</td>\n",
       "      <td>0</td>\n",
       "      <td>0</td>\n",
       "      <td>0</td>\n",
       "      <td>0</td>\n",
       "      <td>0</td>\n",
       "      <td>0</td>\n",
       "      <td>0</td>\n",
       "      <td>0</td>\n",
       "      <td>0</td>\n",
       "      <td>1</td>\n",
       "      <td>0</td>\n",
       "      <td>0</td>\n",
       "      <td>0</td>\n",
       "      <td>0</td>\n",
       "      <td>0</td>\n",
       "      <td>0</td>\n",
       "      <td>0</td>\n",
       "      <td>0</td>\n",
       "      <td>0</td>\n",
       "      <td>0</td>\n",
       "      <td>1</td>\n",
       "      <td>0</td>\n",
       "      <td>0</td>\n",
       "      <td>0</td>\n",
       "      <td>0</td>\n",
       "      <td>0</td>\n",
       "      <td>0</td>\n",
       "    </tr>\n",
       "  </tbody>\n",
       "</table>\n",
       "</div>"
      ],
      "text/plain": [
       "            duration  avg_vote  votes     budget usa_gross_income  \\\n",
       "title                                                               \n",
       "Dead Awake        99       4.6   2958   24000000            11528   \n",
       "\n",
       "           worlwide_gross_income  reviews_from_users  reviews_from_critics  \\\n",
       "title                                                                        \n",
       "Dead Awake                 21675                28.0                  32.0   \n",
       "\n",
       "            Horror  Thriller  Family  Animation  Crime  Biography  Sci-Fi  \\\n",
       "title                                                                       \n",
       "Dead Awake       1         1       0          0      0          0       0   \n",
       "\n",
       "            Fantasy  Drama  Adventure  Western  War  Sport  Mystery  Romance  \\\n",
       "title                                                                          \n",
       "Dead Awake        0      0          0        0    0      0        0        0   \n",
       "\n",
       "            Action  History  Film-Noir  Comedy  Musical  USA  France  Japan  \\\n",
       "title                                                                         \n",
       "Dead Awake       0        0          0       0        0    1       0      0   \n",
       "\n",
       "            UK  Italy  Australia  Mexico  Canada  Spain  Germany  Russia  \\\n",
       "title                                                                      \n",
       "Dead Awake   0      0          0       0       0      0        0       0   \n",
       "\n",
       "            English  Spanish  French  German  Italian  Russian  Japanese  \n",
       "title                                                                     \n",
       "Dead Awake        1        0       0       0        0        0         0  "
      ]
     },
     "execution_count": 456,
     "metadata": {},
     "output_type": "execute_result"
    }
   ],
   "source": [
    "X_train.head(1)"
   ]
  },
  {
   "cell_type": "code",
   "execution_count": 457,
   "metadata": {},
   "outputs": [],
   "source": [
    "# Toy Story Movie, Greta, and Street Fighter Predictions\n",
    "\n",
    "# movie = [box office info\n",
    "#           genre\n",
    "#           country\n",
    "#           language]\n",
    "\n",
    "ToyStory=[81,8.3,905495,30000000,223225679,394436586,668.0,165.0,\n",
    "        0,0,0,1,0,0,0,0,0,1,0,0,0,0,0,0,0,0,1,0,\n",
    "        1,0,0,0,0,0,0,0,0,0,0,\n",
    "        1,0,0,0,0,0,0]\n",
    "\n",
    "Greta=[98,6.0,29287,34000000,10532219,18653107,436.0,254.0,\n",
    "        1,1,0,0,0,0,0,0,0,0,0,1,0,0,0,0,0,0,0,0,\n",
    "        1,0,0,0,0,0,0,0,0,0,0,\n",
    "        1,0,1,0,0,0,0]\n",
    "\n",
    "StreetFighter=[102,4.0,67061,35000000,33423521,99431786,337.0,86.0,\n",
    "        0,0,0,0,0,0,0,0,0,1,0,0,0,0,0,1,0,0,1,0,\n",
    "        1,0,1,0,0,0,0,0,0,0,0,\n",
    "        1,0,0,0,0,0,1]"
   ]
  },
  {
   "cell_type": "code",
   "execution_count": 458,
   "metadata": {},
   "outputs": [
    {
     "data": {
      "text/plain": [
       "array(['high_rated'], dtype=object)"
      ]
     },
     "execution_count": 458,
     "metadata": {},
     "output_type": "execute_result"
    }
   ],
   "source": [
    "knn25.predict([ToyStory])"
   ]
  },
  {
   "cell_type": "code",
   "execution_count": 459,
   "metadata": {},
   "outputs": [
    {
     "data": {
      "text/plain": [
       "array(['avg_rated'], dtype=object)"
      ]
     },
     "execution_count": 459,
     "metadata": {},
     "output_type": "execute_result"
    }
   ],
   "source": [
    "knn25.predict([Greta])"
   ]
  },
  {
   "cell_type": "code",
   "execution_count": 460,
   "metadata": {},
   "outputs": [
    {
     "data": {
      "text/plain": [
       "array(['avg_rated'], dtype=object)"
      ]
     },
     "execution_count": 460,
     "metadata": {},
     "output_type": "execute_result"
    }
   ],
   "source": [
    "knn25.predict([StreetFighter])"
   ]
  },
  {
   "cell_type": "markdown",
   "metadata": {},
   "source": [
    "### Validation Curve"
   ]
  },
  {
   "cell_type": "code",
   "execution_count": 461,
   "metadata": {},
   "outputs": [],
   "source": [
    "train_score,test_score=validation_curve(KNeighborsClassifier(),X_train,y_train,\n",
    "                                        param_name='n_neighbors',param_range=[1,2,3,4,5,6],cv=5, scoring='accuracy')"
   ]
  },
  {
   "cell_type": "code",
   "execution_count": 462,
   "metadata": {},
   "outputs": [
    {
     "data": {
      "text/plain": [
       "array([[1.        , 1.        , 1.        , 1.        , 1.        ],\n",
       "       [0.76178432, 0.75787537, 0.76137931, 0.75494253, 0.76      ],\n",
       "       [0.75465624, 0.74913773, 0.74666667, 0.74183908, 0.75195402],\n",
       "       [0.7174063 , 0.71441711, 0.71126437, 0.7108046 , 0.71448276],\n",
       "       [0.70429984, 0.70383996, 0.70666667, 0.70413793, 0.70275862],\n",
       "       [0.6870545 , 0.68728443, 0.68804598, 0.68436782, 0.68827586]])"
      ]
     },
     "execution_count": 462,
     "metadata": {},
     "output_type": "execute_result"
    }
   ],
   "source": [
    "train_score"
   ]
  },
  {
   "cell_type": "code",
   "execution_count": 463,
   "metadata": {},
   "outputs": [
    {
     "data": {
      "text/plain": [
       "array([[0.51378676, 0.53033088, 0.51609936, 0.5124195 , 0.49218031],\n",
       "       [0.59191176, 0.60569853, 0.60625575, 0.61085557, 0.59889604],\n",
       "       [0.57169118, 0.56341912, 0.5924563 , 0.59705612, 0.58693652],\n",
       "       [0.58455882, 0.60110294, 0.59797608, 0.63477461, 0.58785649],\n",
       "       [0.60018382, 0.59191176, 0.6025759 , 0.62189512, 0.59521619],\n",
       "       [0.60294118, 0.60294118, 0.61177553, 0.62373505, 0.60809568]])"
      ]
     },
     "execution_count": 463,
     "metadata": {},
     "output_type": "execute_result"
    }
   ],
   "source": [
    "test_score"
   ]
  },
  {
   "cell_type": "code",
   "execution_count": 464,
   "metadata": {},
   "outputs": [
    {
     "data": {
      "text/plain": [
       "array([1.        , 0.75919631, 0.74885075, 0.71367503, 0.7043406 ,\n",
       "       0.68700572])"
      ]
     },
     "execution_count": 464,
     "metadata": {},
     "output_type": "execute_result"
    }
   ],
   "source": [
    "train_score.mean(axis=1)"
   ]
  },
  {
   "cell_type": "code",
   "execution_count": 465,
   "metadata": {},
   "outputs": [
    {
     "data": {
      "text/plain": [
       "array([0.51296336, 0.60272353, 0.58231185, 0.60125379, 0.60235656,\n",
       "       0.60989772])"
      ]
     },
     "execution_count": 465,
     "metadata": {},
     "output_type": "execute_result"
    }
   ],
   "source": [
    "test_score.mean(axis=1)"
   ]
  },
  {
   "cell_type": "code",
   "execution_count": null,
   "metadata": {},
   "outputs": [],
   "source": []
  },
  {
   "cell_type": "markdown",
   "metadata": {},
   "source": [
    "## Logistic Regression"
   ]
  },
  {
   "cell_type": "code",
   "execution_count": 466,
   "metadata": {},
   "outputs": [],
   "source": [
    "from sklearn.linear_model import LogisticRegression"
   ]
  },
  {
   "cell_type": "code",
   "execution_count": 467,
   "metadata": {},
   "outputs": [],
   "source": [
    "X_train,X_test,y_train,y_test=train_test_split(X_movie, y_movie, random_state=0)"
   ]
  },
  {
   "cell_type": "code",
   "execution_count": 468,
   "metadata": {},
   "outputs": [
    {
     "data": {
      "text/plain": [
       "LogisticRegression(max_iter=100000)"
      ]
     },
     "execution_count": 468,
     "metadata": {},
     "output_type": "execute_result"
    }
   ],
   "source": [
    "# define the model and fit\n",
    "# default used to be linear but now lbfgs \n",
    "\n",
    "log_reg=LogisticRegression(max_iter=100000)\n",
    "log_reg.fit(X_train,y_train)"
   ]
  },
  {
   "cell_type": "code",
   "execution_count": 469,
   "metadata": {},
   "outputs": [
    {
     "name": "stdout",
     "output_type": "stream",
     "text": [
      "log reg acc on train: 68.00%\n",
      "log reg acc on test: 68.01%\n"
     ]
    }
   ],
   "source": [
    "print('log reg acc on train: {:.2%}'.format(log_reg.score(X_train,y_train)))\n",
    "print('log reg acc on test: {:.2%}'.format(log_reg.score(X_test,y_test)))"
   ]
  },
  {
   "cell_type": "code",
   "execution_count": 470,
   "metadata": {},
   "outputs": [
    {
     "data": {
      "text/plain": [
       "array(['high_rated'], dtype=object)"
      ]
     },
     "execution_count": 470,
     "metadata": {},
     "output_type": "execute_result"
    }
   ],
   "source": [
    "# Predictions\n",
    "\n",
    "log_reg.predict([ToyStory])"
   ]
  },
  {
   "cell_type": "code",
   "execution_count": 471,
   "metadata": {},
   "outputs": [
    {
     "data": {
      "text/plain": [
       "array(['avg_rated'], dtype=object)"
      ]
     },
     "execution_count": 471,
     "metadata": {},
     "output_type": "execute_result"
    }
   ],
   "source": [
    "log_reg.predict([Greta])"
   ]
  },
  {
   "cell_type": "code",
   "execution_count": 472,
   "metadata": {},
   "outputs": [
    {
     "data": {
      "text/plain": [
       "array(['avg_rated'], dtype=object)"
      ]
     },
     "execution_count": 472,
     "metadata": {},
     "output_type": "execute_result"
    }
   ],
   "source": [
    "log_reg.predict([StreetFighter])"
   ]
  },
  {
   "cell_type": "code",
   "execution_count": null,
   "metadata": {},
   "outputs": [],
   "source": []
  },
  {
   "cell_type": "markdown",
   "metadata": {},
   "source": [
    "### Validation Curve"
   ]
  },
  {
   "cell_type": "code",
   "execution_count": 473,
   "metadata": {},
   "outputs": [],
   "source": [
    "C_range=[.1,.5,1,10,100,200]"
   ]
  },
  {
   "cell_type": "code",
   "execution_count": 474,
   "metadata": {},
   "outputs": [],
   "source": [
    "# validation_curve has two outputs: 1- scores on training sets\n",
    "# 2 - scores on test sets\n",
    "\n",
    "train_scores,test_scores=validation_curve(LogisticRegression(solver='liblinear'),X_movie,y_movie,param_name='C',param_range=C_range,cv=5)\n"
   ]
  },
  {
   "cell_type": "code",
   "execution_count": 475,
   "metadata": {},
   "outputs": [
    {
     "data": {
      "text/plain": [
       "array([[0.67086207, 0.67293103, 0.67931034, 0.6862069 , 0.69310345],\n",
       "       [0.67086207, 0.67293103, 0.67931034, 0.6862069 , 0.69310345],\n",
       "       [0.67086207, 0.67293103, 0.67931034, 0.6862069 , 0.69310345],\n",
       "       [0.67086207, 0.67293103, 0.67931034, 0.6862069 , 0.69310345],\n",
       "       [0.67086207, 0.67293103, 0.67931034, 0.6862069 , 0.69310345],\n",
       "       [0.67086207, 0.67293103, 0.67931034, 0.6862069 , 0.69310345]])"
      ]
     },
     "execution_count": 475,
     "metadata": {},
     "output_type": "execute_result"
    }
   ],
   "source": [
    "train_scores"
   ]
  },
  {
   "cell_type": "code",
   "execution_count": 476,
   "metadata": {},
   "outputs": [
    {
     "data": {
      "text/plain": [
       "array([[0.71931034, 0.71241379, 0.68827586, 0.65517241, 0.59172414],\n",
       "       [0.71931034, 0.71241379, 0.68827586, 0.65517241, 0.59172414],\n",
       "       [0.71931034, 0.71241379, 0.68827586, 0.65517241, 0.59172414],\n",
       "       [0.71931034, 0.71241379, 0.68827586, 0.65517241, 0.59172414],\n",
       "       [0.71931034, 0.71241379, 0.68827586, 0.65517241, 0.59172414],\n",
       "       [0.71931034, 0.71241379, 0.68827586, 0.65517241, 0.59172414]])"
      ]
     },
     "execution_count": 476,
     "metadata": {},
     "output_type": "execute_result"
    }
   ],
   "source": [
    "test_scores"
   ]
  },
  {
   "cell_type": "code",
   "execution_count": 477,
   "metadata": {},
   "outputs": [
    {
     "data": {
      "text/plain": [
       "array([0.68048276, 0.68048276, 0.68048276, 0.68048276, 0.68048276,\n",
       "       0.68048276])"
      ]
     },
     "execution_count": 477,
     "metadata": {},
     "output_type": "execute_result"
    }
   ],
   "source": [
    "train_scores.mean(axis=1)"
   ]
  },
  {
   "cell_type": "code",
   "execution_count": 478,
   "metadata": {},
   "outputs": [
    {
     "data": {
      "text/plain": [
       "array([0.67337931, 0.67337931, 0.67337931, 0.67337931, 0.67337931,\n",
       "       0.67337931])"
      ]
     },
     "execution_count": 478,
     "metadata": {},
     "output_type": "execute_result"
    }
   ],
   "source": [
    "test_scores.mean(axis=1)"
   ]
  },
  {
   "cell_type": "code",
   "execution_count": null,
   "metadata": {},
   "outputs": [],
   "source": []
  },
  {
   "cell_type": "markdown",
   "metadata": {},
   "source": [
    "## Support Vector Machine (SVM)"
   ]
  },
  {
   "cell_type": "markdown",
   "metadata": {},
   "source": [
    "### Transforming the Features"
   ]
  },
  {
   "cell_type": "code",
   "execution_count": 479,
   "metadata": {},
   "outputs": [],
   "source": [
    "from sklearn.preprocessing import MinMaxScaler\n",
    "from sklearn.svm import LinearSVC\n",
    "from sklearn.model_selection import validation_curve"
   ]
  },
  {
   "cell_type": "code",
   "execution_count": 480,
   "metadata": {},
   "outputs": [
    {
     "data": {
      "text/plain": [
       "array([[0.07582938, 0.84810127, 0.02435595, ..., 0.        , 0.        ,\n",
       "        0.        ],\n",
       "       [0.42654028, 0.73417722, 0.00129808, ..., 0.        , 0.        ,\n",
       "        0.        ],\n",
       "       [0.12796209, 0.89873418, 0.07134102, ..., 0.        , 0.        ,\n",
       "        0.        ],\n",
       "       ...,\n",
       "       [0.11374408, 0.59493671, 0.00743304, ..., 0.        , 0.        ,\n",
       "        0.        ],\n",
       "       [0.2464455 , 0.78481013, 0.00709908, ..., 0.        , 0.        ,\n",
       "        1.        ],\n",
       "       [0.26540284, 0.64556962, 0.00267516, ..., 0.        , 0.        ,\n",
       "        0.        ]])"
      ]
     },
     "execution_count": 480,
     "metadata": {},
     "output_type": "execute_result"
    }
   ],
   "source": [
    "scaler1=MinMaxScaler()\n",
    "X_movie_trns=scaler1.fit_transform(X_movie)\n",
    "X_movie_trns"
   ]
  },
  {
   "cell_type": "code",
   "execution_count": 481,
   "metadata": {},
   "outputs": [],
   "source": [
    "X_train,X_test,y_train,y_test=train_test_split(X_movie_trns, y_movie, random_state=0)"
   ]
  },
  {
   "cell_type": "code",
   "execution_count": 482,
   "metadata": {},
   "outputs": [
    {
     "data": {
      "text/plain": [
       "LinearSVC(random_state=0)"
      ]
     },
     "execution_count": 482,
     "metadata": {},
     "output_type": "execute_result"
    }
   ],
   "source": [
    "# define\n",
    "# fit model\n",
    "svm1=LinearSVC(random_state=0)\n",
    "svm1.fit(X_train,y_train)"
   ]
  },
  {
   "cell_type": "code",
   "execution_count": 483,
   "metadata": {},
   "outputs": [
    {
     "name": "stdout",
     "output_type": "stream",
     "text": [
      "svm1 accon on train: 92.28%\n",
      "svm1 accon on test: 91.95%\n"
     ]
    }
   ],
   "source": [
    "# evaluation\n",
    "print('svm1 accon on train: {:.2%}'.format(svm1.score(X_train,y_train)))\n",
    "print('svm1 accon on test: {:.2%}'.format(svm1.score(X_test,y_test)))"
   ]
  },
  {
   "cell_type": "code",
   "execution_count": 484,
   "metadata": {},
   "outputs": [],
   "source": [
    "# Prediction"
   ]
  },
  {
   "cell_type": "code",
   "execution_count": 485,
   "metadata": {},
   "outputs": [
    {
     "data": {
      "text/plain": [
       "array([[0.09952607, 0.87341772, 0.39732177, 0.08426962, 0.23832034,\n",
       "        0.14098094, 0.06369974, 0.16432866, 0.        , 0.        ,\n",
       "        0.        , 1.        , 0.        , 0.        , 0.        ,\n",
       "        0.        , 0.        , 1.        , 0.        , 0.        ,\n",
       "        0.        , 0.        , 0.        , 0.        , 0.        ,\n",
       "        0.        , 1.        , 0.        , 1.        , 0.        ,\n",
       "        0.        , 0.        , 0.        , 0.        , 0.        ,\n",
       "        0.        , 0.        , 0.        , 0.        , 1.        ,\n",
       "        0.        , 0.        , 0.        , 0.        , 0.        ,\n",
       "        0.        ]])"
      ]
     },
     "execution_count": 485,
     "metadata": {},
     "output_type": "execute_result"
    }
   ],
   "source": [
    "TS_predict_trns=scaler1.transform([ToyStory])\n",
    "TS_predict_trns"
   ]
  },
  {
   "cell_type": "code",
   "execution_count": 486,
   "metadata": {},
   "outputs": [
    {
     "data": {
      "text/plain": [
       "array(['high_rated'], dtype=object)"
      ]
     },
     "execution_count": 486,
     "metadata": {},
     "output_type": "execute_result"
    }
   ],
   "source": [
    "svm1.predict(TS_predict_trns)"
   ]
  },
  {
   "cell_type": "code",
   "execution_count": 487,
   "metadata": {},
   "outputs": [
    {
     "data": {
      "text/plain": [
       "array([[0.18009479, 0.58227848, 0.01280837, 0.09550557, 0.01124438,\n",
       "        0.00666705, 0.04154331, 0.25350701, 1.        , 1.        ,\n",
       "        0.        , 0.        , 0.        , 0.        , 0.        ,\n",
       "        0.        , 0.        , 0.        , 0.        , 1.        ,\n",
       "        0.        , 0.        , 0.        , 0.        , 0.        ,\n",
       "        0.        , 0.        , 0.        , 1.        , 0.        ,\n",
       "        0.        , 0.        , 0.        , 0.        , 0.        ,\n",
       "        0.        , 0.        , 0.        , 0.        , 1.        ,\n",
       "        0.        , 1.        , 0.        , 0.        , 0.        ,\n",
       "        0.        ]])"
      ]
     },
     "execution_count": 487,
     "metadata": {},
     "output_type": "execute_result"
    }
   ],
   "source": [
    "G_predict_trns=scaler1.transform([Greta])\n",
    "G_predict_trns"
   ]
  },
  {
   "cell_type": "code",
   "execution_count": 488,
   "metadata": {},
   "outputs": [
    {
     "data": {
      "text/plain": [
       "array(['avg_rated'], dtype=object)"
      ]
     },
     "execution_count": 488,
     "metadata": {},
     "output_type": "execute_result"
    }
   ],
   "source": [
    "svm1.predict(G_predict_trns)"
   ]
  },
  {
   "cell_type": "code",
   "execution_count": 489,
   "metadata": {},
   "outputs": [
    {
     "data": {
      "text/plain": [
       "array([[0.19905213, 0.32911392, 0.02938503, 0.09831456, 0.03568361,\n",
       "        0.03553926, 0.03208863, 0.08517034, 0.        , 0.        ,\n",
       "        0.        , 0.        , 0.        , 0.        , 0.        ,\n",
       "        0.        , 0.        , 1.        , 0.        , 0.        ,\n",
       "        0.        , 0.        , 0.        , 1.        , 0.        ,\n",
       "        0.        , 1.        , 0.        , 1.        , 0.        ,\n",
       "        1.        , 0.        , 0.        , 0.        , 0.        ,\n",
       "        0.        , 0.        , 0.        , 0.        , 1.        ,\n",
       "        0.        , 0.        , 0.        , 0.        , 0.        ,\n",
       "        1.        ]])"
      ]
     },
     "execution_count": 489,
     "metadata": {},
     "output_type": "execute_result"
    }
   ],
   "source": [
    "SF_predict_trns=scaler1.transform([StreetFighter])\n",
    "SF_predict_trns"
   ]
  },
  {
   "cell_type": "code",
   "execution_count": 490,
   "metadata": {},
   "outputs": [
    {
     "data": {
      "text/plain": [
       "array(['low_rated'], dtype=object)"
      ]
     },
     "execution_count": 490,
     "metadata": {},
     "output_type": "execute_result"
    }
   ],
   "source": [
    "svm1.predict(SF_predict_trns)"
   ]
  },
  {
   "cell_type": "code",
   "execution_count": null,
   "metadata": {},
   "outputs": [],
   "source": []
  },
  {
   "cell_type": "markdown",
   "metadata": {},
   "source": [
    "### Validation Curve"
   ]
  },
  {
   "cell_type": "code",
   "execution_count": 491,
   "metadata": {},
   "outputs": [
    {
     "data": {
      "text/plain": [
       "LinearSVC()"
      ]
     },
     "execution_count": 491,
     "metadata": {},
     "output_type": "execute_result"
    }
   ],
   "source": [
    "LinearSVC()"
   ]
  },
  {
   "cell_type": "code",
   "execution_count": 492,
   "metadata": {},
   "outputs": [],
   "source": [
    "C_range=[.1,1,5,10,50,100]"
   ]
  },
  {
   "cell_type": "code",
   "execution_count": 493,
   "metadata": {},
   "outputs": [],
   "source": [
    "train_scores,test_scores=validation_curve(LinearSVC(random_state=0,max_iter=100000),X_movie_trns,y_movie,param_name='C',param_range=C_range,cv=5)\n",
    "\n"
   ]
  },
  {
   "cell_type": "code",
   "execution_count": 494,
   "metadata": {},
   "outputs": [
    {
     "data": {
      "text/plain": [
       "array([[0.84844828, 0.85362069, 0.84706897, 0.84827586, 0.84913793],\n",
       "       [0.92672414, 0.92810345, 0.92689655, 0.92517241, 0.92517241],\n",
       "       [0.95689655, 0.95844828, 0.95655172, 0.9562069 , 0.95568966],\n",
       "       [0.96568966, 0.96758621, 0.96603448, 0.96706897, 0.96586207],\n",
       "       [0.98551724, 0.98344828, 0.98482759, 0.98327586, 0.98568966],\n",
       "       [0.99413793, 0.99086207, 0.99275862, 0.99241379, 0.99275862]])"
      ]
     },
     "execution_count": 494,
     "metadata": {},
     "output_type": "execute_result"
    }
   ],
   "source": [
    "train_scores"
   ]
  },
  {
   "cell_type": "code",
   "execution_count": 495,
   "metadata": {},
   "outputs": [
    {
     "data": {
      "text/plain": [
       "array([[0.8462069 , 0.79586207, 0.85172414, 0.85586207, 0.85793103],\n",
       "       [0.92758621, 0.89862069, 0.92      , 0.92896552, 0.92758621],\n",
       "       [0.95724138, 0.9337931 , 0.95862069, 0.95655172, 0.95172414],\n",
       "       [0.96758621, 0.94551724, 0.96965517, 0.96551724, 0.96275862],\n",
       "       [0.98344828, 0.96689655, 0.98206897, 0.98      , 0.97724138],\n",
       "       [0.98965517, 0.97793103, 0.98965517, 0.9862069 , 0.98758621]])"
      ]
     },
     "execution_count": 495,
     "metadata": {},
     "output_type": "execute_result"
    }
   ],
   "source": [
    "test_scores"
   ]
  },
  {
   "cell_type": "code",
   "execution_count": 496,
   "metadata": {},
   "outputs": [
    {
     "data": {
      "text/plain": [
       "array([0.849, 0.926, 0.957, 0.966, 0.985, 0.993])"
      ]
     },
     "execution_count": 496,
     "metadata": {},
     "output_type": "execute_result"
    }
   ],
   "source": [
    "train_scores.mean(axis=1).round(3)"
   ]
  },
  {
   "cell_type": "code",
   "execution_count": 497,
   "metadata": {},
   "outputs": [
    {
     "data": {
      "text/plain": [
       "array([0.84151724, 0.92055172, 0.95158621, 0.9622069 , 0.97793103,\n",
       "       0.9862069 ])"
      ]
     },
     "execution_count": 497,
     "metadata": {},
     "output_type": "execute_result"
    }
   ],
   "source": [
    "test_scores.mean(axis=1)"
   ]
  },
  {
   "cell_type": "code",
   "execution_count": null,
   "metadata": {},
   "outputs": [],
   "source": []
  },
  {
   "cell_type": "markdown",
   "metadata": {},
   "source": [
    "# Decision Tree"
   ]
  },
  {
   "cell_type": "code",
   "execution_count": 498,
   "metadata": {},
   "outputs": [],
   "source": [
    "from sklearn.tree import DecisionTreeClassifier"
   ]
  },
  {
   "cell_type": "code",
   "execution_count": 499,
   "metadata": {},
   "outputs": [],
   "source": [
    "# split to train and test\n",
    "\n",
    "X_train,X_test,y_train,y_test=train_test_split(X_movie,y_movie, random_state=0)"
   ]
  },
  {
   "cell_type": "code",
   "execution_count": 500,
   "metadata": {},
   "outputs": [
    {
     "data": {
      "text/plain": [
       "DecisionTreeClassifier(random_state=0)"
      ]
     },
     "execution_count": 500,
     "metadata": {},
     "output_type": "execute_result"
    }
   ],
   "source": [
    "# define and fit model\n",
    "\n",
    "dt1=DecisionTreeClassifier(random_state=0)\n",
    "dt1.fit(X_train,y_train)"
   ]
  },
  {
   "cell_type": "code",
   "execution_count": 501,
   "metadata": {},
   "outputs": [
    {
     "name": "stdout",
     "output_type": "stream",
     "text": [
      "dt1 on train: 100.00%\n",
      "dt1 on test: 100.00%\n"
     ]
    }
   ],
   "source": [
    "# evaluate performance \n",
    "\n",
    "print('dt1 on train: {:.2%}'.format(dt1.score(X_train,y_train)))\n",
    "print('dt1 on test: {:.2%}'.format(dt1.score(X_test,y_test)))"
   ]
  },
  {
   "cell_type": "code",
   "execution_count": 502,
   "metadata": {},
   "outputs": [
    {
     "data": {
      "text/plain": [
       "array(['high_rated'], dtype=object)"
      ]
     },
     "execution_count": 502,
     "metadata": {},
     "output_type": "execute_result"
    }
   ],
   "source": [
    "#Prediction\n",
    "dt1.predict([ToyStory])"
   ]
  },
  {
   "cell_type": "code",
   "execution_count": 503,
   "metadata": {},
   "outputs": [
    {
     "data": {
      "text/plain": [
       "array(['avg_rated'], dtype=object)"
      ]
     },
     "execution_count": 503,
     "metadata": {},
     "output_type": "execute_result"
    }
   ],
   "source": [
    "dt1.predict([Greta])"
   ]
  },
  {
   "cell_type": "code",
   "execution_count": 504,
   "metadata": {},
   "outputs": [
    {
     "data": {
      "text/plain": [
       "array(['low_rated'], dtype=object)"
      ]
     },
     "execution_count": 504,
     "metadata": {},
     "output_type": "execute_result"
    }
   ],
   "source": [
    "dt1.predict([StreetFighter])"
   ]
  },
  {
   "cell_type": "markdown",
   "metadata": {},
   "source": [
    "### visualizing the tree"
   ]
  },
  {
   "cell_type": "code",
   "execution_count": 505,
   "metadata": {},
   "outputs": [],
   "source": [
    "from sklearn.tree import export_graphviz"
   ]
  },
  {
   "cell_type": "code",
   "execution_count": 506,
   "metadata": {},
   "outputs": [],
   "source": [
    "export_graphviz(dt1, out_file='tree_vis1.dot',feature_names=X_movie.columns\n",
    "                ,class_names=dt1.classes_,filled=True)"
   ]
  },
  {
   "cell_type": "markdown",
   "metadata": {},
   "source": [
    "### Validation Curve"
   ]
  },
  {
   "cell_type": "code",
   "execution_count": 507,
   "metadata": {},
   "outputs": [],
   "source": [
    "train_score,test_score=validation_curve(DecisionTreeClassifier(random_state=0),X_train,y_train,\n",
    "                                        param_name='max_depth',param_range=[2,3,4,5,6],cv=5)"
   ]
  },
  {
   "cell_type": "code",
   "execution_count": 508,
   "metadata": {},
   "outputs": [
    {
     "data": {
      "text/plain": [
       "array([1., 1., 1., 1., 1.])"
      ]
     },
     "execution_count": 508,
     "metadata": {},
     "output_type": "execute_result"
    }
   ],
   "source": [
    "train_score.mean(axis=1)"
   ]
  },
  {
   "cell_type": "code",
   "execution_count": 509,
   "metadata": {},
   "outputs": [
    {
     "data": {
      "text/plain": [
       "array([1., 1., 1., 1., 1.])"
      ]
     },
     "execution_count": 509,
     "metadata": {},
     "output_type": "execute_result"
    }
   ],
   "source": [
    "test_score.mean(axis=1)"
   ]
  },
  {
   "cell_type": "markdown",
   "metadata": {},
   "source": [
    "# Random Forest"
   ]
  },
  {
   "cell_type": "code",
   "execution_count": 510,
   "metadata": {},
   "outputs": [],
   "source": [
    "from sklearn.tree import DecisionTreeClassifier"
   ]
  },
  {
   "cell_type": "code",
   "execution_count": 511,
   "metadata": {},
   "outputs": [],
   "source": [
    "# split to train and test\n",
    "X_train, X_test, y_train, y_test=train_test_split(X_movie, y_movie, random_state=0)"
   ]
  },
  {
   "cell_type": "code",
   "execution_count": 512,
   "metadata": {},
   "outputs": [],
   "source": [
    "train_scores, test_scores=validation_curve(DecisionTreeClassifier(random_state=0), X_train, y_train, param_name='max_leaf_nodes',\n",
    "                                           param_range=[2,3,4,5,6], cv=4)"
   ]
  },
  {
   "cell_type": "code",
   "execution_count": 513,
   "metadata": {},
   "outputs": [
    {
     "name": "stdout",
     "output_type": "stream",
     "text": [
      "[0.89865735 1.         1.         1.         1.        ]\n",
      "[0.89865737 1.         1.         1.         1.        ]\n"
     ]
    }
   ],
   "source": [
    "print(train_scores.mean(axis=1))\n",
    "print(test_scores.mean(axis=1))"
   ]
  },
  {
   "cell_type": "markdown",
   "metadata": {},
   "source": [
    "## fit a DT w max_leaf_nodes 5"
   ]
  },
  {
   "cell_type": "code",
   "execution_count": 514,
   "metadata": {},
   "outputs": [
    {
     "data": {
      "text/plain": [
       "DecisionTreeClassifier(max_leaf_nodes=5, random_state=0)"
      ]
     },
     "execution_count": 514,
     "metadata": {},
     "output_type": "execute_result"
    }
   ],
   "source": [
    "dt1=DecisionTreeClassifier(random_state=0, max_leaf_nodes=5)\n",
    "dt1.fit(X_train, y_train)"
   ]
  },
  {
   "cell_type": "code",
   "execution_count": 515,
   "metadata": {},
   "outputs": [
    {
     "name": "stdout",
     "output_type": "stream",
     "text": [
      "dt1 acc on train: 100.00%\n",
      "dt1 acc on test: 100.00%\n"
     ]
    }
   ],
   "source": [
    "# evaluate the performance\n",
    "print('dt1 acc on train: {:.2%}'.format(dt1.score(X_train, y_train)))\n",
    "print('dt1 acc on test: {:.2%}'.format(dt1.score(X_test, y_test)))"
   ]
  },
  {
   "cell_type": "code",
   "execution_count": 516,
   "metadata": {
    "scrolled": true
   },
   "outputs": [
    {
     "data": {
      "text/html": [
       "<div>\n",
       "<style scoped>\n",
       "    .dataframe tbody tr th:only-of-type {\n",
       "        vertical-align: middle;\n",
       "    }\n",
       "\n",
       "    .dataframe tbody tr th {\n",
       "        vertical-align: top;\n",
       "    }\n",
       "\n",
       "    .dataframe thead th {\n",
       "        text-align: right;\n",
       "    }\n",
       "</style>\n",
       "<table border=\"1\" class=\"dataframe\">\n",
       "  <thead>\n",
       "    <tr style=\"text-align: right;\">\n",
       "      <th></th>\n",
       "      <th>importance</th>\n",
       "    </tr>\n",
       "  </thead>\n",
       "  <tbody>\n",
       "    <tr>\n",
       "      <th>avg_vote</th>\n",
       "      <td>1.0</td>\n",
       "    </tr>\n",
       "    <tr>\n",
       "      <th>duration</th>\n",
       "      <td>0.0</td>\n",
       "    </tr>\n",
       "    <tr>\n",
       "      <th>Mexico</th>\n",
       "      <td>0.0</td>\n",
       "    </tr>\n",
       "    <tr>\n",
       "      <th>Film-Noir</th>\n",
       "      <td>0.0</td>\n",
       "    </tr>\n",
       "    <tr>\n",
       "      <th>Comedy</th>\n",
       "      <td>0.0</td>\n",
       "    </tr>\n",
       "    <tr>\n",
       "      <th>Musical</th>\n",
       "      <td>0.0</td>\n",
       "    </tr>\n",
       "    <tr>\n",
       "      <th>USA</th>\n",
       "      <td>0.0</td>\n",
       "    </tr>\n",
       "    <tr>\n",
       "      <th>France</th>\n",
       "      <td>0.0</td>\n",
       "    </tr>\n",
       "    <tr>\n",
       "      <th>Japan</th>\n",
       "      <td>0.0</td>\n",
       "    </tr>\n",
       "    <tr>\n",
       "      <th>UK</th>\n",
       "      <td>0.0</td>\n",
       "    </tr>\n",
       "    <tr>\n",
       "      <th>Italy</th>\n",
       "      <td>0.0</td>\n",
       "    </tr>\n",
       "    <tr>\n",
       "      <th>Australia</th>\n",
       "      <td>0.0</td>\n",
       "    </tr>\n",
       "    <tr>\n",
       "      <th>Canada</th>\n",
       "      <td>0.0</td>\n",
       "    </tr>\n",
       "    <tr>\n",
       "      <th>Spain</th>\n",
       "      <td>0.0</td>\n",
       "    </tr>\n",
       "    <tr>\n",
       "      <th>Germany</th>\n",
       "      <td>0.0</td>\n",
       "    </tr>\n",
       "    <tr>\n",
       "      <th>Russia</th>\n",
       "      <td>0.0</td>\n",
       "    </tr>\n",
       "    <tr>\n",
       "      <th>English</th>\n",
       "      <td>0.0</td>\n",
       "    </tr>\n",
       "    <tr>\n",
       "      <th>Spanish</th>\n",
       "      <td>0.0</td>\n",
       "    </tr>\n",
       "    <tr>\n",
       "      <th>French</th>\n",
       "      <td>0.0</td>\n",
       "    </tr>\n",
       "    <tr>\n",
       "      <th>German</th>\n",
       "      <td>0.0</td>\n",
       "    </tr>\n",
       "    <tr>\n",
       "      <th>Italian</th>\n",
       "      <td>0.0</td>\n",
       "    </tr>\n",
       "    <tr>\n",
       "      <th>Russian</th>\n",
       "      <td>0.0</td>\n",
       "    </tr>\n",
       "    <tr>\n",
       "      <th>History</th>\n",
       "      <td>0.0</td>\n",
       "    </tr>\n",
       "    <tr>\n",
       "      <th>Action</th>\n",
       "      <td>0.0</td>\n",
       "    </tr>\n",
       "    <tr>\n",
       "      <th>Romance</th>\n",
       "      <td>0.0</td>\n",
       "    </tr>\n",
       "    <tr>\n",
       "      <th>Mystery</th>\n",
       "      <td>0.0</td>\n",
       "    </tr>\n",
       "    <tr>\n",
       "      <th>votes</th>\n",
       "      <td>0.0</td>\n",
       "    </tr>\n",
       "    <tr>\n",
       "      <th>budget</th>\n",
       "      <td>0.0</td>\n",
       "    </tr>\n",
       "    <tr>\n",
       "      <th>usa_gross_income</th>\n",
       "      <td>0.0</td>\n",
       "    </tr>\n",
       "    <tr>\n",
       "      <th>worlwide_gross_income</th>\n",
       "      <td>0.0</td>\n",
       "    </tr>\n",
       "    <tr>\n",
       "      <th>reviews_from_users</th>\n",
       "      <td>0.0</td>\n",
       "    </tr>\n",
       "    <tr>\n",
       "      <th>reviews_from_critics</th>\n",
       "      <td>0.0</td>\n",
       "    </tr>\n",
       "    <tr>\n",
       "      <th>Horror</th>\n",
       "      <td>0.0</td>\n",
       "    </tr>\n",
       "    <tr>\n",
       "      <th>Thriller</th>\n",
       "      <td>0.0</td>\n",
       "    </tr>\n",
       "    <tr>\n",
       "      <th>Family</th>\n",
       "      <td>0.0</td>\n",
       "    </tr>\n",
       "    <tr>\n",
       "      <th>Animation</th>\n",
       "      <td>0.0</td>\n",
       "    </tr>\n",
       "    <tr>\n",
       "      <th>Crime</th>\n",
       "      <td>0.0</td>\n",
       "    </tr>\n",
       "    <tr>\n",
       "      <th>Biography</th>\n",
       "      <td>0.0</td>\n",
       "    </tr>\n",
       "    <tr>\n",
       "      <th>Sci-Fi</th>\n",
       "      <td>0.0</td>\n",
       "    </tr>\n",
       "    <tr>\n",
       "      <th>Fantasy</th>\n",
       "      <td>0.0</td>\n",
       "    </tr>\n",
       "    <tr>\n",
       "      <th>Drama</th>\n",
       "      <td>0.0</td>\n",
       "    </tr>\n",
       "    <tr>\n",
       "      <th>Adventure</th>\n",
       "      <td>0.0</td>\n",
       "    </tr>\n",
       "    <tr>\n",
       "      <th>Western</th>\n",
       "      <td>0.0</td>\n",
       "    </tr>\n",
       "    <tr>\n",
       "      <th>War</th>\n",
       "      <td>0.0</td>\n",
       "    </tr>\n",
       "    <tr>\n",
       "      <th>Sport</th>\n",
       "      <td>0.0</td>\n",
       "    </tr>\n",
       "    <tr>\n",
       "      <th>Japanese</th>\n",
       "      <td>0.0</td>\n",
       "    </tr>\n",
       "  </tbody>\n",
       "</table>\n",
       "</div>"
      ],
      "text/plain": [
       "                       importance\n",
       "avg_vote                      1.0\n",
       "duration                      0.0\n",
       "Mexico                        0.0\n",
       "Film-Noir                     0.0\n",
       "Comedy                        0.0\n",
       "Musical                       0.0\n",
       "USA                           0.0\n",
       "France                        0.0\n",
       "Japan                         0.0\n",
       "UK                            0.0\n",
       "Italy                         0.0\n",
       "Australia                     0.0\n",
       "Canada                        0.0\n",
       "Spain                         0.0\n",
       "Germany                       0.0\n",
       "Russia                        0.0\n",
       "English                       0.0\n",
       "Spanish                       0.0\n",
       "French                        0.0\n",
       "German                        0.0\n",
       "Italian                       0.0\n",
       "Russian                       0.0\n",
       "History                       0.0\n",
       "Action                        0.0\n",
       "Romance                       0.0\n",
       "Mystery                       0.0\n",
       "votes                         0.0\n",
       "budget                        0.0\n",
       "usa_gross_income              0.0\n",
       "worlwide_gross_income         0.0\n",
       "reviews_from_users            0.0\n",
       "reviews_from_critics          0.0\n",
       "Horror                        0.0\n",
       "Thriller                      0.0\n",
       "Family                        0.0\n",
       "Animation                     0.0\n",
       "Crime                         0.0\n",
       "Biography                     0.0\n",
       "Sci-Fi                        0.0\n",
       "Fantasy                       0.0\n",
       "Drama                         0.0\n",
       "Adventure                     0.0\n",
       "Western                       0.0\n",
       "War                           0.0\n",
       "Sport                         0.0\n",
       "Japanese                      0.0"
      ]
     },
     "execution_count": 516,
     "metadata": {},
     "output_type": "execute_result"
    }
   ],
   "source": [
    "feat_imp=pd.DataFrame(data=dt1.feature_importances_, index=X_movie.columns, columns=['importance'])\n",
    "feat_imp.sort_values(by=['importance'], ascending=False)"
   ]
  },
  {
   "cell_type": "markdown",
   "metadata": {},
   "source": [
    "## Random Forest-Data"
   ]
  },
  {
   "cell_type": "code",
   "execution_count": 517,
   "metadata": {},
   "outputs": [],
   "source": [
    "from sklearn.ensemble import RandomForestClassifier"
   ]
  },
  {
   "cell_type": "code",
   "execution_count": 518,
   "metadata": {},
   "outputs": [
    {
     "data": {
      "text/plain": [
       "RandomForestClassifier(n_estimators=200, random_state=0)"
      ]
     },
     "execution_count": 518,
     "metadata": {},
     "output_type": "execute_result"
    }
   ],
   "source": [
    "# define and fit the model\n",
    "rf1=RandomForestClassifier(n_estimators=200,random_state=0)\n",
    "rf1.fit(X_train,y_train)"
   ]
  },
  {
   "cell_type": "code",
   "execution_count": 519,
   "metadata": {},
   "outputs": [
    {
     "name": "stdout",
     "output_type": "stream",
     "text": [
      "rf1 on train: 100.00%\n",
      "rf1 on test: 99.78%\n"
     ]
    }
   ],
   "source": [
    "#evaluate the performance\n",
    "print('rf1 on train: {:.2%}'.format(rf1.score(X_train,y_train)))\n",
    "print('rf1 on test: {:.2%}'.format(rf1.score(X_test,y_test)))"
   ]
  },
  {
   "cell_type": "code",
   "execution_count": 520,
   "metadata": {},
   "outputs": [
    {
     "data": {
      "text/plain": [
       "array(['high_rated'], dtype=object)"
      ]
     },
     "execution_count": 520,
     "metadata": {},
     "output_type": "execute_result"
    }
   ],
   "source": [
    "#Predictions\n",
    "rf1.predict([ToyStory])"
   ]
  },
  {
   "cell_type": "code",
   "execution_count": 521,
   "metadata": {},
   "outputs": [
    {
     "data": {
      "text/plain": [
       "array(['avg_rated'], dtype=object)"
      ]
     },
     "execution_count": 521,
     "metadata": {},
     "output_type": "execute_result"
    }
   ],
   "source": [
    "rf1.predict([Greta])"
   ]
  },
  {
   "cell_type": "code",
   "execution_count": 522,
   "metadata": {},
   "outputs": [
    {
     "data": {
      "text/plain": [
       "array(['low_rated'], dtype=object)"
      ]
     },
     "execution_count": 522,
     "metadata": {},
     "output_type": "execute_result"
    }
   ],
   "source": [
    "rf1.predict([StreetFighter])"
   ]
  },
  {
   "cell_type": "code",
   "execution_count": null,
   "metadata": {},
   "outputs": [],
   "source": []
  },
  {
   "cell_type": "markdown",
   "metadata": {},
   "source": [
    "## feature_importance"
   ]
  },
  {
   "cell_type": "code",
   "execution_count": 523,
   "metadata": {},
   "outputs": [
    {
     "data": {
      "text/plain": [
       "array([3.31523691e-02, 6.63589038e-01, 6.57347964e-02, 2.78099918e-02,\n",
       "       2.65447782e-02, 2.43633755e-02, 4.30554408e-02, 2.97296592e-02,\n",
       "       5.46031655e-03, 2.65591870e-03, 2.22818317e-03, 2.14255329e-03,\n",
       "       2.62571742e-03, 5.28490478e-03, 1.67877745e-03, 2.27406582e-03,\n",
       "       1.46393474e-02, 3.03327822e-03, 2.70488256e-04, 8.10246117e-04,\n",
       "       7.38770109e-04, 1.75633243e-03, 2.30641321e-03, 4.95711999e-03,\n",
       "       8.91412511e-04, 6.36309813e-06, 3.81095799e-03, 8.75641089e-04,\n",
       "       3.50774559e-03, 1.62012036e-03, 1.17855528e-03, 2.48151400e-03,\n",
       "       9.91397980e-04, 7.36826301e-04, 7.57574319e-04, 1.97674531e-03,\n",
       "       4.97705854e-04, 1.51646537e-03, 3.50872512e-04, 3.57741380e-03,\n",
       "       1.90765472e-03, 1.71496652e-03, 1.46833165e-03, 1.25772937e-03,\n",
       "       1.05287134e-03, 9.79253103e-04])"
      ]
     },
     "execution_count": 523,
     "metadata": {},
     "output_type": "execute_result"
    }
   ],
   "source": [
    "rf1.feature_importances_"
   ]
  },
  {
   "cell_type": "code",
   "execution_count": 524,
   "metadata": {
    "scrolled": true
   },
   "outputs": [
    {
     "data": {
      "text/html": [
       "<div>\n",
       "<style scoped>\n",
       "    .dataframe tbody tr th:only-of-type {\n",
       "        vertical-align: middle;\n",
       "    }\n",
       "\n",
       "    .dataframe tbody tr th {\n",
       "        vertical-align: top;\n",
       "    }\n",
       "\n",
       "    .dataframe thead th {\n",
       "        text-align: right;\n",
       "    }\n",
       "</style>\n",
       "<table border=\"1\" class=\"dataframe\">\n",
       "  <thead>\n",
       "    <tr style=\"text-align: right;\">\n",
       "      <th></th>\n",
       "      <th>importance</th>\n",
       "    </tr>\n",
       "  </thead>\n",
       "  <tbody>\n",
       "    <tr>\n",
       "      <th>avg_vote</th>\n",
       "      <td>0.663589</td>\n",
       "    </tr>\n",
       "    <tr>\n",
       "      <th>votes</th>\n",
       "      <td>0.065735</td>\n",
       "    </tr>\n",
       "    <tr>\n",
       "      <th>reviews_from_users</th>\n",
       "      <td>0.043055</td>\n",
       "    </tr>\n",
       "    <tr>\n",
       "      <th>duration</th>\n",
       "      <td>0.033152</td>\n",
       "    </tr>\n",
       "    <tr>\n",
       "      <th>reviews_from_critics</th>\n",
       "      <td>0.029730</td>\n",
       "    </tr>\n",
       "    <tr>\n",
       "      <th>budget</th>\n",
       "      <td>0.027810</td>\n",
       "    </tr>\n",
       "    <tr>\n",
       "      <th>usa_gross_income</th>\n",
       "      <td>0.026545</td>\n",
       "    </tr>\n",
       "    <tr>\n",
       "      <th>worlwide_gross_income</th>\n",
       "      <td>0.024363</td>\n",
       "    </tr>\n",
       "    <tr>\n",
       "      <th>Drama</th>\n",
       "      <td>0.014639</td>\n",
       "    </tr>\n",
       "    <tr>\n",
       "      <th>Horror</th>\n",
       "      <td>0.005460</td>\n",
       "    </tr>\n",
       "    <tr>\n",
       "      <th>Biography</th>\n",
       "      <td>0.005285</td>\n",
       "    </tr>\n",
       "    <tr>\n",
       "      <th>Action</th>\n",
       "      <td>0.004957</td>\n",
       "    </tr>\n",
       "    <tr>\n",
       "      <th>Comedy</th>\n",
       "      <td>0.003811</td>\n",
       "    </tr>\n",
       "    <tr>\n",
       "      <th>English</th>\n",
       "      <td>0.003577</td>\n",
       "    </tr>\n",
       "    <tr>\n",
       "      <th>USA</th>\n",
       "      <td>0.003508</td>\n",
       "    </tr>\n",
       "    <tr>\n",
       "      <th>Adventure</th>\n",
       "      <td>0.003033</td>\n",
       "    </tr>\n",
       "    <tr>\n",
       "      <th>Thriller</th>\n",
       "      <td>0.002656</td>\n",
       "    </tr>\n",
       "    <tr>\n",
       "      <th>Crime</th>\n",
       "      <td>0.002626</td>\n",
       "    </tr>\n",
       "    <tr>\n",
       "      <th>UK</th>\n",
       "      <td>0.002482</td>\n",
       "    </tr>\n",
       "    <tr>\n",
       "      <th>Romance</th>\n",
       "      <td>0.002306</td>\n",
       "    </tr>\n",
       "    <tr>\n",
       "      <th>Fantasy</th>\n",
       "      <td>0.002274</td>\n",
       "    </tr>\n",
       "    <tr>\n",
       "      <th>Family</th>\n",
       "      <td>0.002228</td>\n",
       "    </tr>\n",
       "    <tr>\n",
       "      <th>Animation</th>\n",
       "      <td>0.002143</td>\n",
       "    </tr>\n",
       "    <tr>\n",
       "      <th>Canada</th>\n",
       "      <td>0.001977</td>\n",
       "    </tr>\n",
       "    <tr>\n",
       "      <th>Spanish</th>\n",
       "      <td>0.001908</td>\n",
       "    </tr>\n",
       "    <tr>\n",
       "      <th>Mystery</th>\n",
       "      <td>0.001756</td>\n",
       "    </tr>\n",
       "    <tr>\n",
       "      <th>French</th>\n",
       "      <td>0.001715</td>\n",
       "    </tr>\n",
       "    <tr>\n",
       "      <th>Sci-Fi</th>\n",
       "      <td>0.001679</td>\n",
       "    </tr>\n",
       "    <tr>\n",
       "      <th>France</th>\n",
       "      <td>0.001620</td>\n",
       "    </tr>\n",
       "    <tr>\n",
       "      <th>Germany</th>\n",
       "      <td>0.001516</td>\n",
       "    </tr>\n",
       "    <tr>\n",
       "      <th>German</th>\n",
       "      <td>0.001468</td>\n",
       "    </tr>\n",
       "    <tr>\n",
       "      <th>Italian</th>\n",
       "      <td>0.001258</td>\n",
       "    </tr>\n",
       "    <tr>\n",
       "      <th>Japan</th>\n",
       "      <td>0.001179</td>\n",
       "    </tr>\n",
       "    <tr>\n",
       "      <th>Russian</th>\n",
       "      <td>0.001053</td>\n",
       "    </tr>\n",
       "    <tr>\n",
       "      <th>Italy</th>\n",
       "      <td>0.000991</td>\n",
       "    </tr>\n",
       "    <tr>\n",
       "      <th>Japanese</th>\n",
       "      <td>0.000979</td>\n",
       "    </tr>\n",
       "    <tr>\n",
       "      <th>History</th>\n",
       "      <td>0.000891</td>\n",
       "    </tr>\n",
       "    <tr>\n",
       "      <th>Musical</th>\n",
       "      <td>0.000876</td>\n",
       "    </tr>\n",
       "    <tr>\n",
       "      <th>War</th>\n",
       "      <td>0.000810</td>\n",
       "    </tr>\n",
       "    <tr>\n",
       "      <th>Mexico</th>\n",
       "      <td>0.000758</td>\n",
       "    </tr>\n",
       "    <tr>\n",
       "      <th>Sport</th>\n",
       "      <td>0.000739</td>\n",
       "    </tr>\n",
       "    <tr>\n",
       "      <th>Australia</th>\n",
       "      <td>0.000737</td>\n",
       "    </tr>\n",
       "    <tr>\n",
       "      <th>Spain</th>\n",
       "      <td>0.000498</td>\n",
       "    </tr>\n",
       "    <tr>\n",
       "      <th>Russia</th>\n",
       "      <td>0.000351</td>\n",
       "    </tr>\n",
       "    <tr>\n",
       "      <th>Western</th>\n",
       "      <td>0.000270</td>\n",
       "    </tr>\n",
       "    <tr>\n",
       "      <th>Film-Noir</th>\n",
       "      <td>0.000006</td>\n",
       "    </tr>\n",
       "  </tbody>\n",
       "</table>\n",
       "</div>"
      ],
      "text/plain": [
       "                       importance\n",
       "avg_vote                 0.663589\n",
       "votes                    0.065735\n",
       "reviews_from_users       0.043055\n",
       "duration                 0.033152\n",
       "reviews_from_critics     0.029730\n",
       "budget                   0.027810\n",
       "usa_gross_income         0.026545\n",
       "worlwide_gross_income    0.024363\n",
       "Drama                    0.014639\n",
       "Horror                   0.005460\n",
       "Biography                0.005285\n",
       "Action                   0.004957\n",
       "Comedy                   0.003811\n",
       "English                  0.003577\n",
       "USA                      0.003508\n",
       "Adventure                0.003033\n",
       "Thriller                 0.002656\n",
       "Crime                    0.002626\n",
       "UK                       0.002482\n",
       "Romance                  0.002306\n",
       "Fantasy                  0.002274\n",
       "Family                   0.002228\n",
       "Animation                0.002143\n",
       "Canada                   0.001977\n",
       "Spanish                  0.001908\n",
       "Mystery                  0.001756\n",
       "French                   0.001715\n",
       "Sci-Fi                   0.001679\n",
       "France                   0.001620\n",
       "Germany                  0.001516\n",
       "German                   0.001468\n",
       "Italian                  0.001258\n",
       "Japan                    0.001179\n",
       "Russian                  0.001053\n",
       "Italy                    0.000991\n",
       "Japanese                 0.000979\n",
       "History                  0.000891\n",
       "Musical                  0.000876\n",
       "War                      0.000810\n",
       "Mexico                   0.000758\n",
       "Sport                    0.000739\n",
       "Australia                0.000737\n",
       "Spain                    0.000498\n",
       "Russia                   0.000351\n",
       "Western                  0.000270\n",
       "Film-Noir                0.000006"
      ]
     },
     "execution_count": 524,
     "metadata": {},
     "output_type": "execute_result"
    }
   ],
   "source": [
    "rf_feat_imp=pd.DataFrame(data=rf1.feature_importances_,\n",
    "                      index=X_movie.columns,columns=['importance'])\n",
    "rf_feat_imp.sort_values(by=['importance'],ascending=False)"
   ]
  },
  {
   "cell_type": "code",
   "execution_count": null,
   "metadata": {},
   "outputs": [],
   "source": []
  },
  {
   "cell_type": "code",
   "execution_count": null,
   "metadata": {},
   "outputs": [],
   "source": []
  },
  {
   "cell_type": "code",
   "execution_count": null,
   "metadata": {},
   "outputs": [],
   "source": []
  },
  {
   "cell_type": "code",
   "execution_count": null,
   "metadata": {},
   "outputs": [],
   "source": []
  }
 ],
 "metadata": {
  "kernelspec": {
   "display_name": "Python 3",
   "language": "python",
   "name": "python3"
  },
  "language_info": {
   "codemirror_mode": {
    "name": "ipython",
    "version": 3
   },
   "file_extension": ".py",
   "mimetype": "text/x-python",
   "name": "python",
   "nbconvert_exporter": "python",
   "pygments_lexer": "ipython3",
   "version": "3.8.5"
  }
 },
 "nbformat": 4,
 "nbformat_minor": 4
}
